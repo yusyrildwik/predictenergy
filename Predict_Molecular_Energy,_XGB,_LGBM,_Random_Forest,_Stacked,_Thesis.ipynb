{
  "cells": [
    {
      "cell_type": "markdown",
      "metadata": {
        "id": "view-in-github",
        "colab_type": "text"
      },
      "source": [
        "<a href=\"https://colab.research.google.com/github/yusyrildwik/predictenergy/blob/main/Predict_Molecular_Energy%2C_XGB%2C_LGBM%2C_Random_Forest%2C_Stacked%2C_Thesis.ipynb\" target=\"_parent\"><img src=\"https://colab.research.google.com/assets/colab-badge.svg\" alt=\"Open In Colab\"/></a>"
      ]
    },
    {
      "cell_type": "code",
      "execution_count": null,
      "metadata": {
        "id": "cVQ-vvdLt2Pi",
        "colab": {
          "base_uri": "https://localhost:8080/"
        },
        "outputId": "7c48193f-d48d-4185-fe82-b7046b503bd4"
      },
      "outputs": [
        {
          "output_type": "stream",
          "name": "stdout",
          "text": [
            "Thu Jul 20 14:55:46 2023       \n",
            "+-----------------------------------------------------------------------------+\n",
            "| NVIDIA-SMI 525.105.17   Driver Version: 525.105.17   CUDA Version: 12.0     |\n",
            "|-------------------------------+----------------------+----------------------+\n",
            "| GPU  Name        Persistence-M| Bus-Id        Disp.A | Volatile Uncorr. ECC |\n",
            "| Fan  Temp  Perf  Pwr:Usage/Cap|         Memory-Usage | GPU-Util  Compute M. |\n",
            "|                               |                      |               MIG M. |\n",
            "|===============================+======================+======================|\n",
            "|   0  Tesla T4            Off  | 00000000:00:04.0 Off |                    0 |\n",
            "| N/A   40C    P8     9W /  70W |      0MiB / 15360MiB |      0%      Default |\n",
            "|                               |                      |                  N/A |\n",
            "+-------------------------------+----------------------+----------------------+\n",
            "                                                                               \n",
            "+-----------------------------------------------------------------------------+\n",
            "| Processes:                                                                  |\n",
            "|  GPU   GI   CI        PID   Type   Process name                  GPU Memory |\n",
            "|        ID   ID                                                   Usage      |\n",
            "|=============================================================================|\n",
            "|  No running processes found                                                 |\n",
            "+-----------------------------------------------------------------------------+\n"
          ]
        }
      ],
      "source": [
        "!nvidia-smi"
      ]
    },
    {
      "cell_type": "code",
      "execution_count": null,
      "metadata": {
        "id": "5-gaEKbvuWT6",
        "colab": {
          "base_uri": "https://localhost:8080/"
        },
        "outputId": "0766aab6-d9ec-4d81-e8fb-4ba5948c7fc3"
      },
      "outputs": [
        {
          "output_type": "stream",
          "name": "stdout",
          "text": [
            "GPU 0: Tesla T4 (UUID: GPU-6dc45b9a-94d7-4f8b-2fbd-b8328cc2f3fc)\n"
          ]
        }
      ],
      "source": [
        "!nvidia-smi -L"
      ]
    },
    {
      "cell_type": "code",
      "execution_count": null,
      "metadata": {
        "id": "S905xuw-ucoa",
        "colab": {
          "base_uri": "https://localhost:8080/"
        },
        "outputId": "f4ed4dfd-d144-41e5-ef2a-9ae826f632f7"
      },
      "outputs": [
        {
          "output_type": "stream",
          "name": "stdout",
          "text": [
            "Model name:                      Intel(R) Xeon(R) CPU @ 2.20GHz\n"
          ]
        }
      ],
      "source": [
        "!lscpu |grep 'Model name'"
      ]
    },
    {
      "cell_type": "code",
      "execution_count": null,
      "metadata": {
        "id": "t4rM5IAjunzd",
        "colab": {
          "base_uri": "https://localhost:8080/"
        },
        "outputId": "376386e9-d9df-4c6d-b9cf-752466f7bc94"
      },
      "outputs": [
        {
          "output_type": "stream",
          "name": "stdout",
          "text": [
            "12G\n"
          ]
        }
      ],
      "source": [
        "!free -h --si | awk  '/Mem:/{print $2}'"
      ]
    },
    {
      "cell_type": "code",
      "execution_count": null,
      "metadata": {
        "id": "7mTBeV1mcN8M",
        "colab": {
          "base_uri": "https://localhost:8080/"
        },
        "outputId": "53dd7091-b318-4cfe-9c99-bdeff1389029"
      },
      "outputs": [
        {
          "output_type": "stream",
          "name": "stdout",
          "text": [
            "--2023-07-20 14:55:47--  https://simpan.ugm.ac.id/s/VSejOaiJRfp30Mk/download\n",
            "Resolving simpan.ugm.ac.id (simpan.ugm.ac.id)... 175.111.88.197\n",
            "Connecting to simpan.ugm.ac.id (simpan.ugm.ac.id)|175.111.88.197|:443... connected.\n",
            "HTTP request sent, awaiting response... 200 OK\n",
            "Length: 95524990 (91M) [application/zip]\n",
            "Saving to: ‘/tmp/predict-molecular-properties.zip’\n",
            "\n",
            "/tmp/predict-molecu 100%[===================>]  91.10M  38.7MB/s    in 2.4s    \n",
            "\n",
            "2023-07-20 14:55:51 (38.7 MB/s) - ‘/tmp/predict-molecular-properties.zip’ saved [95524990/95524990]\n",
            "\n"
          ]
        }
      ],
      "source": [
        "!wget --no-check-certificate \\\n",
        "    https://simpan.ugm.ac.id/s/VSejOaiJRfp30Mk/download \\\n",
        "    -O /tmp/predict-molecular-properties.zip"
      ]
    },
    {
      "cell_type": "markdown",
      "metadata": {
        "id": "1qlv-a6OMxs3"
      },
      "source": [
        "Ektraksi Fitur Matriks Coloumb"
      ]
    },
    {
      "cell_type": "code",
      "execution_count": null,
      "metadata": {
        "id": "nTuX_k869_TW"
      },
      "outputs": [],
      "source": [
        "import zipfile, os\n",
        "import json\n",
        "\n",
        "local_zip = '/tmp/predict-molecular-properties.zip'\n",
        "zip_ref = zipfile.ZipFile(local_zip, 'r')\n",
        "zip_ref.extractall('/tmp/predict-molecular-properties')\n",
        "zip_ref.close()\n",
        "base_dir = '/tmp/predict-molecular-properties/'\n",
        "with open('/tmp/predict-molecular-properties/pubChem_p_00000001_00025000.json') as f:\n",
        "    data = json.load(f)"
      ]
    },
    {
      "cell_type": "code",
      "execution_count": null,
      "metadata": {
        "id": "KJHXKXEeLrFt"
      },
      "outputs": [],
      "source": [
        "periodic_table = {'H':[1, 1.0079],\n",
        "                  'C':[6, 12.0107],\n",
        "                  'N':[7, 14.0067],\n",
        "                  'O':[8, 15.9994],\n",
        "                  'S':[16, 32.065],\n",
        "                  'F':[9, 18.9984],\n",
        "                  'Si':[14, 28.0855],\n",
        "                  'P':[15, 30.9738],\n",
        "                  'Cl':[17, 35.453],\n",
        "                  'Br':[35, 79.904],\n",
        "                  'I': [53, 126.9045]}"
      ]
    },
    {
      "cell_type": "code",
      "execution_count": null,
      "metadata": {
        "id": "H2LlWolJL0gG"
      },
      "outputs": [],
      "source": [
        "import numpy as np\n",
        "import pandas as pd\n",
        "from scipy.spatial.distance import pdist, squareform\n",
        "\n",
        "natMax = 50 # jumlah atom maksimum\n",
        "nMolecules = len(data)\n",
        "\n",
        "data_CM = np.zeros((nMolecules, natMax * (natMax + 1) // 2), dtype=float)\n",
        "data_ids = np.zeros(nMolecules, dtype=int)\n",
        "data_multipoles = np.zeros((nMolecules, 14), dtype=float)\n",
        "data_mmff94 = np.zeros(nMolecules, dtype=float)\n",
        "\n",
        "ind = 0\n",
        "for molecule in data:\n",
        "  natoms = len(molecule['atoms'])\n",
        "  if natoms > natMax:\n",
        "    continue\n",
        "  data_mmff94[ind] = molecule['En']\n",
        "  data_multipoles[ind, :] = molecule['shapeM']\n",
        "  data_ids[ind] = molecule['id']\n",
        "\n",
        "  full_CM = np.zeros((natMax, natMax))\n",
        "  full_Z = np.zeros(natMax)\n",
        "\n",
        "  pos = []\n",
        "  Z = []\n",
        "  for i, at in enumerate(molecule['atoms']):\n",
        "    Z.append(periodic_table[at['type']][0])\n",
        "    pos.append(at['xyz'])\n",
        "\n",
        "  pos = np.array(pos, dtype=float)\n",
        "  Z = np.array(Z, dtype=float)\n",
        "\n",
        "  tiny = 1e-20\n",
        "\n",
        "  dm = pdist(pos)\n",
        "\n",
        "  coulomb_matrix = np.outer(Z, Z) / (squareform(dm) + tiny)\n",
        "  full_CM[0:natoms, 0:natoms] = coulomb_matrix\n",
        "  full_Z[0:natoms] = Z\n",
        "\n",
        "  iu = np.triu_indices(natMax, k=1)\n",
        "  coulomb_vector = full_CM[iu]\n",
        "\n",
        "  shuffle = np.argsort(-coulomb_vector)\n",
        "  coulomb_vector = coulomb_vector[shuffle]\n",
        "\n",
        "  coulomb_matrix = squareform(coulomb_vector)\n",
        "  assert np.trace(coulomb_matrix) == 0, 'Matriks Coulomb tidak sesuai'\n",
        "\n",
        "  coulomb_matrix += 0.5 * np.power(full_Z, 2.4) * np.eye(natMax)\n",
        "  iu = np.triu_indices(natMax)\n",
        "  feature_vector = coulomb_matrix[iu]\n",
        "  assert feature_vector.shape[0] == natMax * (natMax + 1) // 2, 'Dimensi fitur tidak sesuai'\n",
        "\n",
        "  data_CM[ind] = feature_vector\n",
        "\n",
        "  ind += 1\n",
        "\n",
        "dat = np.column_stack((data_CM, data_multipoles))\n",
        "df = pd.DataFrame(dat)\n",
        "\n",
        "numfeats = np.shape(dat)[1]\n",
        "cols = [x for x in range(1, numfeats + 1, 1)]\n",
        "col_names = list(map(lambda x: 'f' + str(x), cols))\n",
        "df.columns = col_names\n",
        "\n",
        "df.insert(0, 'pubchem_id', data_ids)\n",
        "df['En'] = data_mmff94"
      ]
    },
    {
      "cell_type": "code",
      "execution_count": null,
      "metadata": {
        "id": "KJEzrV3VL1HM",
        "colab": {
          "base_uri": "https://localhost:8080/",
          "height": 299
        },
        "outputId": "261d8a4e-651d-4931-f0e1-214791b5795b"
      },
      "outputs": [
        {
          "output_type": "execute_result",
          "data": {
            "text/plain": [
              "   pubchem_id          f1         f2         f3         f4         f5  \\\n",
              "0           1   73.516695  39.230740  38.058812  37.934254  35.169765   \n",
              "1           2   73.516695  39.230539  39.213259  35.384864  35.171945   \n",
              "2           3   73.516695  39.420140  35.571151  33.601772  33.564165   \n",
              "3           4   73.516695  33.629161  28.836604  23.630536  23.518647   \n",
              "4           5  332.344906  79.959785  74.207114  74.205076  74.014645   \n",
              "\n",
              "          f6         f7         f8         f9  ...  f1281  f1282  f1283  \\\n",
              "0  33.617995  28.032659  27.705090  27.600070  ...   2.55   0.16  -3.13   \n",
              "1  33.606458  28.271514  28.154189  27.704183  ...   0.81   0.05  -0.40   \n",
              "2  27.985222  26.861051  26.852468  24.963419  ...   0.23   0.02   0.08   \n",
              "3  20.151961  19.963944  16.945914  15.112884  ...   0.25   0.00  -0.04   \n",
              "4  38.987518  34.468622  33.988388  28.915828  ...   0.15   0.00   0.07   \n",
              "\n",
              "   f1284  f1285  f1286  f1287  f1288  f1289       En  \n",
              "0  -0.22  -2.18  -0.56   0.21   0.17   0.09  37.8010  \n",
              "1  -0.71  -2.51  -0.17   0.01  -0.33  -0.13  44.1107  \n",
              "2  -0.70  -0.26   0.20  -0.29  -0.35  -0.34  19.4085  \n",
              "3   0.01  -0.48  -0.08   0.00   0.01   0.07  -0.1086  \n",
              "4  -0.03  -0.25   0.00  -0.63  -0.27   0.01 -23.8799  \n",
              "\n",
              "[5 rows x 1291 columns]"
            ],
            "text/html": [
              "\n",
              "\n",
              "  <div id=\"df-d00d2c04-68bc-4c30-a4e3-a7589de75752\">\n",
              "    <div class=\"colab-df-container\">\n",
              "      <div>\n",
              "<style scoped>\n",
              "    .dataframe tbody tr th:only-of-type {\n",
              "        vertical-align: middle;\n",
              "    }\n",
              "\n",
              "    .dataframe tbody tr th {\n",
              "        vertical-align: top;\n",
              "    }\n",
              "\n",
              "    .dataframe thead th {\n",
              "        text-align: right;\n",
              "    }\n",
              "</style>\n",
              "<table border=\"1\" class=\"dataframe\">\n",
              "  <thead>\n",
              "    <tr style=\"text-align: right;\">\n",
              "      <th></th>\n",
              "      <th>pubchem_id</th>\n",
              "      <th>f1</th>\n",
              "      <th>f2</th>\n",
              "      <th>f3</th>\n",
              "      <th>f4</th>\n",
              "      <th>f5</th>\n",
              "      <th>f6</th>\n",
              "      <th>f7</th>\n",
              "      <th>f8</th>\n",
              "      <th>f9</th>\n",
              "      <th>...</th>\n",
              "      <th>f1281</th>\n",
              "      <th>f1282</th>\n",
              "      <th>f1283</th>\n",
              "      <th>f1284</th>\n",
              "      <th>f1285</th>\n",
              "      <th>f1286</th>\n",
              "      <th>f1287</th>\n",
              "      <th>f1288</th>\n",
              "      <th>f1289</th>\n",
              "      <th>En</th>\n",
              "    </tr>\n",
              "  </thead>\n",
              "  <tbody>\n",
              "    <tr>\n",
              "      <th>0</th>\n",
              "      <td>1</td>\n",
              "      <td>73.516695</td>\n",
              "      <td>39.230740</td>\n",
              "      <td>38.058812</td>\n",
              "      <td>37.934254</td>\n",
              "      <td>35.169765</td>\n",
              "      <td>33.617995</td>\n",
              "      <td>28.032659</td>\n",
              "      <td>27.705090</td>\n",
              "      <td>27.600070</td>\n",
              "      <td>...</td>\n",
              "      <td>2.55</td>\n",
              "      <td>0.16</td>\n",
              "      <td>-3.13</td>\n",
              "      <td>-0.22</td>\n",
              "      <td>-2.18</td>\n",
              "      <td>-0.56</td>\n",
              "      <td>0.21</td>\n",
              "      <td>0.17</td>\n",
              "      <td>0.09</td>\n",
              "      <td>37.8010</td>\n",
              "    </tr>\n",
              "    <tr>\n",
              "      <th>1</th>\n",
              "      <td>2</td>\n",
              "      <td>73.516695</td>\n",
              "      <td>39.230539</td>\n",
              "      <td>39.213259</td>\n",
              "      <td>35.384864</td>\n",
              "      <td>35.171945</td>\n",
              "      <td>33.606458</td>\n",
              "      <td>28.271514</td>\n",
              "      <td>28.154189</td>\n",
              "      <td>27.704183</td>\n",
              "      <td>...</td>\n",
              "      <td>0.81</td>\n",
              "      <td>0.05</td>\n",
              "      <td>-0.40</td>\n",
              "      <td>-0.71</td>\n",
              "      <td>-2.51</td>\n",
              "      <td>-0.17</td>\n",
              "      <td>0.01</td>\n",
              "      <td>-0.33</td>\n",
              "      <td>-0.13</td>\n",
              "      <td>44.1107</td>\n",
              "    </tr>\n",
              "    <tr>\n",
              "      <th>2</th>\n",
              "      <td>3</td>\n",
              "      <td>73.516695</td>\n",
              "      <td>39.420140</td>\n",
              "      <td>35.571151</td>\n",
              "      <td>33.601772</td>\n",
              "      <td>33.564165</td>\n",
              "      <td>27.985222</td>\n",
              "      <td>26.861051</td>\n",
              "      <td>26.852468</td>\n",
              "      <td>24.963419</td>\n",
              "      <td>...</td>\n",
              "      <td>0.23</td>\n",
              "      <td>0.02</td>\n",
              "      <td>0.08</td>\n",
              "      <td>-0.70</td>\n",
              "      <td>-0.26</td>\n",
              "      <td>0.20</td>\n",
              "      <td>-0.29</td>\n",
              "      <td>-0.35</td>\n",
              "      <td>-0.34</td>\n",
              "      <td>19.4085</td>\n",
              "    </tr>\n",
              "    <tr>\n",
              "      <th>3</th>\n",
              "      <td>4</td>\n",
              "      <td>73.516695</td>\n",
              "      <td>33.629161</td>\n",
              "      <td>28.836604</td>\n",
              "      <td>23.630536</td>\n",
              "      <td>23.518647</td>\n",
              "      <td>20.151961</td>\n",
              "      <td>19.963944</td>\n",
              "      <td>16.945914</td>\n",
              "      <td>15.112884</td>\n",
              "      <td>...</td>\n",
              "      <td>0.25</td>\n",
              "      <td>0.00</td>\n",
              "      <td>-0.04</td>\n",
              "      <td>0.01</td>\n",
              "      <td>-0.48</td>\n",
              "      <td>-0.08</td>\n",
              "      <td>0.00</td>\n",
              "      <td>0.01</td>\n",
              "      <td>0.07</td>\n",
              "      <td>-0.1086</td>\n",
              "    </tr>\n",
              "    <tr>\n",
              "      <th>4</th>\n",
              "      <td>5</td>\n",
              "      <td>332.344906</td>\n",
              "      <td>79.959785</td>\n",
              "      <td>74.207114</td>\n",
              "      <td>74.205076</td>\n",
              "      <td>74.014645</td>\n",
              "      <td>38.987518</td>\n",
              "      <td>34.468622</td>\n",
              "      <td>33.988388</td>\n",
              "      <td>28.915828</td>\n",
              "      <td>...</td>\n",
              "      <td>0.15</td>\n",
              "      <td>0.00</td>\n",
              "      <td>0.07</td>\n",
              "      <td>-0.03</td>\n",
              "      <td>-0.25</td>\n",
              "      <td>0.00</td>\n",
              "      <td>-0.63</td>\n",
              "      <td>-0.27</td>\n",
              "      <td>0.01</td>\n",
              "      <td>-23.8799</td>\n",
              "    </tr>\n",
              "  </tbody>\n",
              "</table>\n",
              "<p>5 rows × 1291 columns</p>\n",
              "</div>\n",
              "      <button class=\"colab-df-convert\" onclick=\"convertToInteractive('df-d00d2c04-68bc-4c30-a4e3-a7589de75752')\"\n",
              "              title=\"Convert this dataframe to an interactive table.\"\n",
              "              style=\"display:none;\">\n",
              "\n",
              "  <svg xmlns=\"http://www.w3.org/2000/svg\" height=\"24px\"viewBox=\"0 0 24 24\"\n",
              "       width=\"24px\">\n",
              "    <path d=\"M0 0h24v24H0V0z\" fill=\"none\"/>\n",
              "    <path d=\"M18.56 5.44l.94 2.06.94-2.06 2.06-.94-2.06-.94-.94-2.06-.94 2.06-2.06.94zm-11 1L8.5 8.5l.94-2.06 2.06-.94-2.06-.94L8.5 2.5l-.94 2.06-2.06.94zm10 10l.94 2.06.94-2.06 2.06-.94-2.06-.94-.94-2.06-.94 2.06-2.06.94z\"/><path d=\"M17.41 7.96l-1.37-1.37c-.4-.4-.92-.59-1.43-.59-.52 0-1.04.2-1.43.59L10.3 9.45l-7.72 7.72c-.78.78-.78 2.05 0 2.83L4 21.41c.39.39.9.59 1.41.59.51 0 1.02-.2 1.41-.59l7.78-7.78 2.81-2.81c.8-.78.8-2.07 0-2.86zM5.41 20L4 18.59l7.72-7.72 1.47 1.35L5.41 20z\"/>\n",
              "  </svg>\n",
              "      </button>\n",
              "\n",
              "\n",
              "\n",
              "    <div id=\"df-bdb14da4-c0cb-4545-8b3a-fce27908338e\">\n",
              "      <button class=\"colab-df-quickchart\" onclick=\"quickchart('df-bdb14da4-c0cb-4545-8b3a-fce27908338e')\"\n",
              "              title=\"Suggest charts.\"\n",
              "              style=\"display:none;\">\n",
              "\n",
              "<svg xmlns=\"http://www.w3.org/2000/svg\" height=\"24px\"viewBox=\"0 0 24 24\"\n",
              "     width=\"24px\">\n",
              "    <g>\n",
              "        <path d=\"M19 3H5c-1.1 0-2 .9-2 2v14c0 1.1.9 2 2 2h14c1.1 0 2-.9 2-2V5c0-1.1-.9-2-2-2zM9 17H7v-7h2v7zm4 0h-2V7h2v10zm4 0h-2v-4h2v4z\"/>\n",
              "    </g>\n",
              "</svg>\n",
              "      </button>\n",
              "    </div>\n",
              "\n",
              "<style>\n",
              "  .colab-df-quickchart {\n",
              "    background-color: #E8F0FE;\n",
              "    border: none;\n",
              "    border-radius: 50%;\n",
              "    cursor: pointer;\n",
              "    display: none;\n",
              "    fill: #1967D2;\n",
              "    height: 32px;\n",
              "    padding: 0 0 0 0;\n",
              "    width: 32px;\n",
              "  }\n",
              "\n",
              "  .colab-df-quickchart:hover {\n",
              "    background-color: #E2EBFA;\n",
              "    box-shadow: 0px 1px 2px rgba(60, 64, 67, 0.3), 0px 1px 3px 1px rgba(60, 64, 67, 0.15);\n",
              "    fill: #174EA6;\n",
              "  }\n",
              "\n",
              "  [theme=dark] .colab-df-quickchart {\n",
              "    background-color: #3B4455;\n",
              "    fill: #D2E3FC;\n",
              "  }\n",
              "\n",
              "  [theme=dark] .colab-df-quickchart:hover {\n",
              "    background-color: #434B5C;\n",
              "    box-shadow: 0px 1px 3px 1px rgba(0, 0, 0, 0.15);\n",
              "    filter: drop-shadow(0px 1px 2px rgba(0, 0, 0, 0.3));\n",
              "    fill: #FFFFFF;\n",
              "  }\n",
              "</style>\n",
              "\n",
              "    <script>\n",
              "      async function quickchart(key) {\n",
              "        const containerElement = document.querySelector('#' + key);\n",
              "        const charts = await google.colab.kernel.invokeFunction(\n",
              "            'suggestCharts', [key], {});\n",
              "      }\n",
              "    </script>\n",
              "\n",
              "      <script>\n",
              "\n",
              "function displayQuickchartButton(domScope) {\n",
              "  let quickchartButtonEl =\n",
              "    domScope.querySelector('#df-bdb14da4-c0cb-4545-8b3a-fce27908338e button.colab-df-quickchart');\n",
              "  quickchartButtonEl.style.display =\n",
              "    google.colab.kernel.accessAllowed ? 'block' : 'none';\n",
              "}\n",
              "\n",
              "        displayQuickchartButton(document);\n",
              "      </script>\n",
              "      <style>\n",
              "    .colab-df-container {\n",
              "      display:flex;\n",
              "      flex-wrap:wrap;\n",
              "      gap: 12px;\n",
              "    }\n",
              "\n",
              "    .colab-df-convert {\n",
              "      background-color: #E8F0FE;\n",
              "      border: none;\n",
              "      border-radius: 50%;\n",
              "      cursor: pointer;\n",
              "      display: none;\n",
              "      fill: #1967D2;\n",
              "      height: 32px;\n",
              "      padding: 0 0 0 0;\n",
              "      width: 32px;\n",
              "    }\n",
              "\n",
              "    .colab-df-convert:hover {\n",
              "      background-color: #E2EBFA;\n",
              "      box-shadow: 0px 1px 2px rgba(60, 64, 67, 0.3), 0px 1px 3px 1px rgba(60, 64, 67, 0.15);\n",
              "      fill: #174EA6;\n",
              "    }\n",
              "\n",
              "    [theme=dark] .colab-df-convert {\n",
              "      background-color: #3B4455;\n",
              "      fill: #D2E3FC;\n",
              "    }\n",
              "\n",
              "    [theme=dark] .colab-df-convert:hover {\n",
              "      background-color: #434B5C;\n",
              "      box-shadow: 0px 1px 3px 1px rgba(0, 0, 0, 0.15);\n",
              "      filter: drop-shadow(0px 1px 2px rgba(0, 0, 0, 0.3));\n",
              "      fill: #FFFFFF;\n",
              "    }\n",
              "  </style>\n",
              "\n",
              "      <script>\n",
              "        const buttonEl =\n",
              "          document.querySelector('#df-d00d2c04-68bc-4c30-a4e3-a7589de75752 button.colab-df-convert');\n",
              "        buttonEl.style.display =\n",
              "          google.colab.kernel.accessAllowed ? 'block' : 'none';\n",
              "\n",
              "        async function convertToInteractive(key) {\n",
              "          const element = document.querySelector('#df-d00d2c04-68bc-4c30-a4e3-a7589de75752');\n",
              "          const dataTable =\n",
              "            await google.colab.kernel.invokeFunction('convertToInteractive',\n",
              "                                                     [key], {});\n",
              "          if (!dataTable) return;\n",
              "\n",
              "          const docLinkHtml = 'Like what you see? Visit the ' +\n",
              "            '<a target=\"_blank\" href=https://colab.research.google.com/notebooks/data_table.ipynb>data table notebook</a>'\n",
              "            + ' to learn more about interactive tables.';\n",
              "          element.innerHTML = '';\n",
              "          dataTable['output_type'] = 'display_data';\n",
              "          await google.colab.output.renderOutput(dataTable, element);\n",
              "          const docLink = document.createElement('div');\n",
              "          docLink.innerHTML = docLinkHtml;\n",
              "          element.appendChild(docLink);\n",
              "        }\n",
              "      </script>\n",
              "    </div>\n",
              "  </div>\n"
            ]
          },
          "metadata": {},
          "execution_count": 9
        }
      ],
      "source": [
        "df.head()"
      ]
    },
    {
      "cell_type": "code",
      "execution_count": null,
      "metadata": {
        "id": "_yxZ7m7OL4kl",
        "colab": {
          "base_uri": "https://localhost:8080/"
        },
        "outputId": "4d83899e-00d7-4676-9af8-935f598d352a"
      },
      "outputs": [
        {
          "output_type": "execute_result",
          "data": {
            "text/plain": [
              "(18205, 1291)"
            ]
          },
          "metadata": {},
          "execution_count": 10
        }
      ],
      "source": [
        "df.shape"
      ]
    },
    {
      "cell_type": "code",
      "execution_count": null,
      "metadata": {
        "id": "tmHekR6FL6O8"
      },
      "outputs": [],
      "source": [
        "path = 'molecules_' + '1' + '_' + '25000' + '.csv'\n",
        "df.to_csv(path)"
      ]
    },
    {
      "cell_type": "code",
      "execution_count": null,
      "metadata": {
        "id": "J0fjyynJL70F"
      },
      "outputs": [],
      "source": [
        "path = 'molecules_' + '1' + '_' + '25000' + '.csv'\n",
        "df.to_csv(path)"
      ]
    },
    {
      "cell_type": "markdown",
      "metadata": {
        "id": "TjWdsS-rMuWN"
      },
      "source": [
        "Import Pustaka"
      ]
    },
    {
      "cell_type": "code",
      "execution_count": null,
      "metadata": {
        "id": "rzNPy18ecpZD",
        "colab": {
          "base_uri": "https://localhost:8080/"
        },
        "outputId": "8a2bf011-1d9e-4c4e-849b-53401a9c145f"
      },
      "outputs": [
        {
          "output_type": "stream",
          "name": "stdout",
          "text": [
            "--2023-07-20 14:56:59--  https://simpan.ugm.ac.id/s/mXmKQxTXyyrzRJr/download\n",
            "Resolving simpan.ugm.ac.id (simpan.ugm.ac.id)... 175.111.88.197\n",
            "Connecting to simpan.ugm.ac.id (simpan.ugm.ac.id)|175.111.88.197|:443... connected.\n",
            "HTTP request sent, awaiting response... 200 OK\n",
            "Length: 52083703 (50M) [application/zip]\n",
            "Saving to: ‘/tmp/energy-molecule.zip’\n",
            "\n",
            "/tmp/energy-molecul 100%[===================>]  49.67M  23.5MB/s    in 2.1s    \n",
            "\n",
            "2023-07-20 14:57:03 (23.5 MB/s) - ‘/tmp/energy-molecule.zip’ saved [52083703/52083703]\n",
            "\n",
            "--2023-07-20 14:57:03--  https://simpan.ugm.ac.id/s/KEp0BrgNystnmmA/download\n",
            "Resolving simpan.ugm.ac.id (simpan.ugm.ac.id)... 175.111.88.197\n",
            "Connecting to simpan.ugm.ac.id (simpan.ugm.ac.id)|175.111.88.197|:443... connected.\n",
            "HTTP request sent, awaiting response... 200 OK\n",
            "Length: 7756187 (7.4M) [text/csv]\n",
            "Saving to: ‘/tmp/coulombL.csv’\n",
            "\n",
            "/tmp/coulombL.csv   100%[===================>]   7.40M  6.47MB/s    in 1.1s    \n",
            "\n",
            "2023-07-20 14:57:04 (6.47 MB/s) - ‘/tmp/coulombL.csv’ saved [7756187/7756187]\n",
            "\n"
          ]
        }
      ],
      "source": [
        "!wget --no-check-certificate \\\n",
        "    https://simpan.ugm.ac.id/s/mXmKQxTXyyrzRJr/download \\\n",
        "    -O /tmp/energy-molecule.zip\n",
        "\n",
        "!wget --no-check-certificate \\\n",
        "    https://simpan.ugm.ac.id/s/KEp0BrgNystnmmA/download \\\n",
        "    -O /tmp/coulombL.csv"
      ]
    },
    {
      "cell_type": "code",
      "execution_count": null,
      "metadata": {
        "id": "QJsUrw7sMV_t"
      },
      "outputs": [],
      "source": [
        "import zipfile, os\n",
        "local_zip = '/tmp/energy-molecule.zip'\n",
        "zip_ref = zipfile.ZipFile(local_zip, 'r')\n",
        "zip_ref.extractall('/tmp/energy-molecule')\n",
        "zip_ref.close()\n",
        "base_dir = '/tmp/energy-molecule/'"
      ]
    },
    {
      "cell_type": "code",
      "execution_count": null,
      "metadata": {
        "id": "rgbywL9DMiDc"
      },
      "outputs": [],
      "source": [
        "import numpy as np\n",
        "import pandas as pd\n",
        "import matplotlib.pyplot as plt\n",
        "import seaborn as sns\n",
        "import tensorflow as tf\n",
        "from sklearn.linear_model import Ridge\n",
        "from xgboost.sklearn import XGBRegressor\n",
        "from xgboost import plot_tree\n",
        "from lightgbm.sklearn import LGBMRegressor\n",
        "from sklearn.ensemble import RandomForestRegressor\n",
        "from sklearn.model_selection import train_test_split, cross_val_score\n",
        "from sklearn.metrics import mean_absolute_error, mean_squared_error, accuracy_score, make_scorer\n",
        "from sklearn.decomposition import PCA\n",
        "import time\n",
        "sns.set()"
      ]
    },
    {
      "cell_type": "markdown",
      "metadata": {
        "id": "dmwfwhpANBXF"
      },
      "source": [
        "Eksplorasi Data"
      ]
    },
    {
      "cell_type": "code",
      "execution_count": null,
      "metadata": {
        "id": "Ru_j784wMkwt"
      },
      "outputs": [],
      "source": [
        "df = pd.read_csv('/tmp/energy-molecule/roboBohr.csv')\n",
        "coulombl = pd.read_csv('/tmp/coulombL.csv', header=None, index_col=0)"
      ]
    },
    {
      "cell_type": "code",
      "execution_count": null,
      "metadata": {
        "id": "CG6jcyZNMmuF",
        "colab": {
          "base_uri": "https://localhost:8080/"
        },
        "outputId": "5e2890ae-bc1e-40be-8f4c-bd552f814229"
      },
      "outputs": [
        {
          "output_type": "execute_result",
          "data": {
            "text/plain": [
              "(16242, 1278)"
            ]
          },
          "metadata": {},
          "execution_count": 17
        }
      ],
      "source": [
        "df.shape"
      ]
    },
    {
      "cell_type": "code",
      "execution_count": null,
      "metadata": {
        "id": "BdSCqtTLMpq8",
        "colab": {
          "base_uri": "https://localhost:8080/"
        },
        "outputId": "7d895ec5-abe5-4108-fab0-56f717beb289"
      },
      "outputs": [
        {
          "output_type": "execute_result",
          "data": {
            "text/plain": [
              "array(['Unnamed: 0', '0', '1', ..., '1274', 'pubchem_id', 'Eat'],\n",
              "      dtype=object)"
            ]
          },
          "metadata": {},
          "execution_count": 18
        }
      ],
      "source": [
        "df.columns.values"
      ]
    },
    {
      "cell_type": "code",
      "execution_count": null,
      "metadata": {
        "id": "sl_aOuuYMrUE",
        "colab": {
          "base_uri": "https://localhost:8080/",
          "height": 504
        },
        "outputId": "e68bc887-2000-4c50-cf8e-663845b55a25"
      },
      "outputs": [
        {
          "output_type": "execute_result",
          "data": {
            "text/plain": [
              "       Unnamed: 0          0          1          2          3          4  \\\n",
              "0               0  73.516695  17.817765  12.469551  12.458130  12.454607   \n",
              "1               1  73.516695  20.649126  18.527789  17.891535  17.887995   \n",
              "2               2  73.516695  17.830377  12.512263  12.404775  12.394493   \n",
              "3               3  73.516695  17.875810  17.871259  17.862402  17.850920   \n",
              "4               4  73.516695  17.883818  17.868256  17.864221  17.818540   \n",
              "...           ...        ...        ...        ...        ...        ...   \n",
              "16237       16268  73.516695  20.753166  18.624076  17.872009  17.851690   \n",
              "16238       16269  73.516695  20.724740  18.579933  17.741621  14.716676   \n",
              "16239       16270  53.358707  20.820797  19.150234  19.148721  15.135514   \n",
              "16240       16271  53.358707  15.707759  15.707644  13.653838  13.653570   \n",
              "16241       16272  53.358707  15.708752  15.708094  13.653893  13.653176   \n",
              "\n",
              "               5          6          7          8  ...  1267  1268  1269  \\\n",
              "0      12.447345  12.433065  12.426926  12.387474  ...   0.0   0.0   0.5   \n",
              "1      17.871731  17.852586  17.729842  15.864270  ...   0.0   0.0   0.0   \n",
              "2      12.391564  12.324461  12.238106  10.423249  ...   0.0   0.0   0.0   \n",
              "3      17.850440  12.558105  12.557645  12.517583  ...   0.0   0.0   0.0   \n",
              "4      12.508657  12.490519  12.450098  10.597068  ...   0.0   0.0   0.0   \n",
              "...          ...        ...        ...        ...  ...   ...   ...   ...   \n",
              "16237  17.851254  17.742176  14.655754  12.706683  ...   0.0   0.0   0.0   \n",
              "16238  13.697829  13.697558  13.653512  13.652942  ...   0.0   0.0   0.0   \n",
              "16239  15.123685  12.942704  12.938162  12.488633  ...   0.0   0.0   0.0   \n",
              "16240  13.653314  13.652591  13.652585  13.652550  ...   0.0   0.0   0.0   \n",
              "16241  13.653120  13.652930  13.652528  13.652322  ...   0.0   0.0   0.0   \n",
              "\n",
              "       1270  1271  1272  1273  1274  pubchem_id        Eat  \n",
              "0       0.0   0.0   0.0   0.0   0.0       25004 -19.013763  \n",
              "1       0.0   0.0   0.0   0.0   0.0       25005 -10.161019  \n",
              "2       0.0   0.0   0.0   0.0   0.0       25006  -9.376619  \n",
              "3       0.0   0.0   0.0   0.0   0.0       25009 -13.776438  \n",
              "4       0.0   0.0   0.0   0.0   0.0       25011  -8.537140  \n",
              "...     ...   ...   ...   ...   ...         ...        ...  \n",
              "16237   0.0   0.0   0.0   0.0   0.0       74976  -8.876123  \n",
              "16238   0.0   0.0   0.0   0.0   0.0       74977 -13.105268  \n",
              "16239   0.0   0.0   0.0   0.0   0.0       74978 -16.801464  \n",
              "16240   0.0   0.0   0.0   0.0   0.0       74979 -13.335088  \n",
              "16241   0.0   0.0   0.0   0.0   0.0       74980 -13.336696  \n",
              "\n",
              "[16242 rows x 1278 columns]"
            ],
            "text/html": [
              "\n",
              "\n",
              "  <div id=\"df-95011618-c26f-4f0a-9612-89c6e9e37ad0\">\n",
              "    <div class=\"colab-df-container\">\n",
              "      <div>\n",
              "<style scoped>\n",
              "    .dataframe tbody tr th:only-of-type {\n",
              "        vertical-align: middle;\n",
              "    }\n",
              "\n",
              "    .dataframe tbody tr th {\n",
              "        vertical-align: top;\n",
              "    }\n",
              "\n",
              "    .dataframe thead th {\n",
              "        text-align: right;\n",
              "    }\n",
              "</style>\n",
              "<table border=\"1\" class=\"dataframe\">\n",
              "  <thead>\n",
              "    <tr style=\"text-align: right;\">\n",
              "      <th></th>\n",
              "      <th>Unnamed: 0</th>\n",
              "      <th>0</th>\n",
              "      <th>1</th>\n",
              "      <th>2</th>\n",
              "      <th>3</th>\n",
              "      <th>4</th>\n",
              "      <th>5</th>\n",
              "      <th>6</th>\n",
              "      <th>7</th>\n",
              "      <th>8</th>\n",
              "      <th>...</th>\n",
              "      <th>1267</th>\n",
              "      <th>1268</th>\n",
              "      <th>1269</th>\n",
              "      <th>1270</th>\n",
              "      <th>1271</th>\n",
              "      <th>1272</th>\n",
              "      <th>1273</th>\n",
              "      <th>1274</th>\n",
              "      <th>pubchem_id</th>\n",
              "      <th>Eat</th>\n",
              "    </tr>\n",
              "  </thead>\n",
              "  <tbody>\n",
              "    <tr>\n",
              "      <th>0</th>\n",
              "      <td>0</td>\n",
              "      <td>73.516695</td>\n",
              "      <td>17.817765</td>\n",
              "      <td>12.469551</td>\n",
              "      <td>12.458130</td>\n",
              "      <td>12.454607</td>\n",
              "      <td>12.447345</td>\n",
              "      <td>12.433065</td>\n",
              "      <td>12.426926</td>\n",
              "      <td>12.387474</td>\n",
              "      <td>...</td>\n",
              "      <td>0.0</td>\n",
              "      <td>0.0</td>\n",
              "      <td>0.5</td>\n",
              "      <td>0.0</td>\n",
              "      <td>0.0</td>\n",
              "      <td>0.0</td>\n",
              "      <td>0.0</td>\n",
              "      <td>0.0</td>\n",
              "      <td>25004</td>\n",
              "      <td>-19.013763</td>\n",
              "    </tr>\n",
              "    <tr>\n",
              "      <th>1</th>\n",
              "      <td>1</td>\n",
              "      <td>73.516695</td>\n",
              "      <td>20.649126</td>\n",
              "      <td>18.527789</td>\n",
              "      <td>17.891535</td>\n",
              "      <td>17.887995</td>\n",
              "      <td>17.871731</td>\n",
              "      <td>17.852586</td>\n",
              "      <td>17.729842</td>\n",
              "      <td>15.864270</td>\n",
              "      <td>...</td>\n",
              "      <td>0.0</td>\n",
              "      <td>0.0</td>\n",
              "      <td>0.0</td>\n",
              "      <td>0.0</td>\n",
              "      <td>0.0</td>\n",
              "      <td>0.0</td>\n",
              "      <td>0.0</td>\n",
              "      <td>0.0</td>\n",
              "      <td>25005</td>\n",
              "      <td>-10.161019</td>\n",
              "    </tr>\n",
              "    <tr>\n",
              "      <th>2</th>\n",
              "      <td>2</td>\n",
              "      <td>73.516695</td>\n",
              "      <td>17.830377</td>\n",
              "      <td>12.512263</td>\n",
              "      <td>12.404775</td>\n",
              "      <td>12.394493</td>\n",
              "      <td>12.391564</td>\n",
              "      <td>12.324461</td>\n",
              "      <td>12.238106</td>\n",
              "      <td>10.423249</td>\n",
              "      <td>...</td>\n",
              "      <td>0.0</td>\n",
              "      <td>0.0</td>\n",
              "      <td>0.0</td>\n",
              "      <td>0.0</td>\n",
              "      <td>0.0</td>\n",
              "      <td>0.0</td>\n",
              "      <td>0.0</td>\n",
              "      <td>0.0</td>\n",
              "      <td>25006</td>\n",
              "      <td>-9.376619</td>\n",
              "    </tr>\n",
              "    <tr>\n",
              "      <th>3</th>\n",
              "      <td>3</td>\n",
              "      <td>73.516695</td>\n",
              "      <td>17.875810</td>\n",
              "      <td>17.871259</td>\n",
              "      <td>17.862402</td>\n",
              "      <td>17.850920</td>\n",
              "      <td>17.850440</td>\n",
              "      <td>12.558105</td>\n",
              "      <td>12.557645</td>\n",
              "      <td>12.517583</td>\n",
              "      <td>...</td>\n",
              "      <td>0.0</td>\n",
              "      <td>0.0</td>\n",
              "      <td>0.0</td>\n",
              "      <td>0.0</td>\n",
              "      <td>0.0</td>\n",
              "      <td>0.0</td>\n",
              "      <td>0.0</td>\n",
              "      <td>0.0</td>\n",
              "      <td>25009</td>\n",
              "      <td>-13.776438</td>\n",
              "    </tr>\n",
              "    <tr>\n",
              "      <th>4</th>\n",
              "      <td>4</td>\n",
              "      <td>73.516695</td>\n",
              "      <td>17.883818</td>\n",
              "      <td>17.868256</td>\n",
              "      <td>17.864221</td>\n",
              "      <td>17.818540</td>\n",
              "      <td>12.508657</td>\n",
              "      <td>12.490519</td>\n",
              "      <td>12.450098</td>\n",
              "      <td>10.597068</td>\n",
              "      <td>...</td>\n",
              "      <td>0.0</td>\n",
              "      <td>0.0</td>\n",
              "      <td>0.0</td>\n",
              "      <td>0.0</td>\n",
              "      <td>0.0</td>\n",
              "      <td>0.0</td>\n",
              "      <td>0.0</td>\n",
              "      <td>0.0</td>\n",
              "      <td>25011</td>\n",
              "      <td>-8.537140</td>\n",
              "    </tr>\n",
              "    <tr>\n",
              "      <th>...</th>\n",
              "      <td>...</td>\n",
              "      <td>...</td>\n",
              "      <td>...</td>\n",
              "      <td>...</td>\n",
              "      <td>...</td>\n",
              "      <td>...</td>\n",
              "      <td>...</td>\n",
              "      <td>...</td>\n",
              "      <td>...</td>\n",
              "      <td>...</td>\n",
              "      <td>...</td>\n",
              "      <td>...</td>\n",
              "      <td>...</td>\n",
              "      <td>...</td>\n",
              "      <td>...</td>\n",
              "      <td>...</td>\n",
              "      <td>...</td>\n",
              "      <td>...</td>\n",
              "      <td>...</td>\n",
              "      <td>...</td>\n",
              "      <td>...</td>\n",
              "    </tr>\n",
              "    <tr>\n",
              "      <th>16237</th>\n",
              "      <td>16268</td>\n",
              "      <td>73.516695</td>\n",
              "      <td>20.753166</td>\n",
              "      <td>18.624076</td>\n",
              "      <td>17.872009</td>\n",
              "      <td>17.851690</td>\n",
              "      <td>17.851254</td>\n",
              "      <td>17.742176</td>\n",
              "      <td>14.655754</td>\n",
              "      <td>12.706683</td>\n",
              "      <td>...</td>\n",
              "      <td>0.0</td>\n",
              "      <td>0.0</td>\n",
              "      <td>0.0</td>\n",
              "      <td>0.0</td>\n",
              "      <td>0.0</td>\n",
              "      <td>0.0</td>\n",
              "      <td>0.0</td>\n",
              "      <td>0.0</td>\n",
              "      <td>74976</td>\n",
              "      <td>-8.876123</td>\n",
              "    </tr>\n",
              "    <tr>\n",
              "      <th>16238</th>\n",
              "      <td>16269</td>\n",
              "      <td>73.516695</td>\n",
              "      <td>20.724740</td>\n",
              "      <td>18.579933</td>\n",
              "      <td>17.741621</td>\n",
              "      <td>14.716676</td>\n",
              "      <td>13.697829</td>\n",
              "      <td>13.697558</td>\n",
              "      <td>13.653512</td>\n",
              "      <td>13.652942</td>\n",
              "      <td>...</td>\n",
              "      <td>0.0</td>\n",
              "      <td>0.0</td>\n",
              "      <td>0.0</td>\n",
              "      <td>0.0</td>\n",
              "      <td>0.0</td>\n",
              "      <td>0.0</td>\n",
              "      <td>0.0</td>\n",
              "      <td>0.0</td>\n",
              "      <td>74977</td>\n",
              "      <td>-13.105268</td>\n",
              "    </tr>\n",
              "    <tr>\n",
              "      <th>16239</th>\n",
              "      <td>16270</td>\n",
              "      <td>53.358707</td>\n",
              "      <td>20.820797</td>\n",
              "      <td>19.150234</td>\n",
              "      <td>19.148721</td>\n",
              "      <td>15.135514</td>\n",
              "      <td>15.123685</td>\n",
              "      <td>12.942704</td>\n",
              "      <td>12.938162</td>\n",
              "      <td>12.488633</td>\n",
              "      <td>...</td>\n",
              "      <td>0.0</td>\n",
              "      <td>0.0</td>\n",
              "      <td>0.0</td>\n",
              "      <td>0.0</td>\n",
              "      <td>0.0</td>\n",
              "      <td>0.0</td>\n",
              "      <td>0.0</td>\n",
              "      <td>0.0</td>\n",
              "      <td>74978</td>\n",
              "      <td>-16.801464</td>\n",
              "    </tr>\n",
              "    <tr>\n",
              "      <th>16240</th>\n",
              "      <td>16271</td>\n",
              "      <td>53.358707</td>\n",
              "      <td>15.707759</td>\n",
              "      <td>15.707644</td>\n",
              "      <td>13.653838</td>\n",
              "      <td>13.653570</td>\n",
              "      <td>13.653314</td>\n",
              "      <td>13.652591</td>\n",
              "      <td>13.652585</td>\n",
              "      <td>13.652550</td>\n",
              "      <td>...</td>\n",
              "      <td>0.0</td>\n",
              "      <td>0.0</td>\n",
              "      <td>0.0</td>\n",
              "      <td>0.0</td>\n",
              "      <td>0.0</td>\n",
              "      <td>0.0</td>\n",
              "      <td>0.0</td>\n",
              "      <td>0.0</td>\n",
              "      <td>74979</td>\n",
              "      <td>-13.335088</td>\n",
              "    </tr>\n",
              "    <tr>\n",
              "      <th>16241</th>\n",
              "      <td>16272</td>\n",
              "      <td>53.358707</td>\n",
              "      <td>15.708752</td>\n",
              "      <td>15.708094</td>\n",
              "      <td>13.653893</td>\n",
              "      <td>13.653176</td>\n",
              "      <td>13.653120</td>\n",
              "      <td>13.652930</td>\n",
              "      <td>13.652528</td>\n",
              "      <td>13.652322</td>\n",
              "      <td>...</td>\n",
              "      <td>0.0</td>\n",
              "      <td>0.0</td>\n",
              "      <td>0.0</td>\n",
              "      <td>0.0</td>\n",
              "      <td>0.0</td>\n",
              "      <td>0.0</td>\n",
              "      <td>0.0</td>\n",
              "      <td>0.0</td>\n",
              "      <td>74980</td>\n",
              "      <td>-13.336696</td>\n",
              "    </tr>\n",
              "  </tbody>\n",
              "</table>\n",
              "<p>16242 rows × 1278 columns</p>\n",
              "</div>\n",
              "      <button class=\"colab-df-convert\" onclick=\"convertToInteractive('df-95011618-c26f-4f0a-9612-89c6e9e37ad0')\"\n",
              "              title=\"Convert this dataframe to an interactive table.\"\n",
              "              style=\"display:none;\">\n",
              "\n",
              "  <svg xmlns=\"http://www.w3.org/2000/svg\" height=\"24px\"viewBox=\"0 0 24 24\"\n",
              "       width=\"24px\">\n",
              "    <path d=\"M0 0h24v24H0V0z\" fill=\"none\"/>\n",
              "    <path d=\"M18.56 5.44l.94 2.06.94-2.06 2.06-.94-2.06-.94-.94-2.06-.94 2.06-2.06.94zm-11 1L8.5 8.5l.94-2.06 2.06-.94-2.06-.94L8.5 2.5l-.94 2.06-2.06.94zm10 10l.94 2.06.94-2.06 2.06-.94-2.06-.94-.94-2.06-.94 2.06-2.06.94z\"/><path d=\"M17.41 7.96l-1.37-1.37c-.4-.4-.92-.59-1.43-.59-.52 0-1.04.2-1.43.59L10.3 9.45l-7.72 7.72c-.78.78-.78 2.05 0 2.83L4 21.41c.39.39.9.59 1.41.59.51 0 1.02-.2 1.41-.59l7.78-7.78 2.81-2.81c.8-.78.8-2.07 0-2.86zM5.41 20L4 18.59l7.72-7.72 1.47 1.35L5.41 20z\"/>\n",
              "  </svg>\n",
              "      </button>\n",
              "\n",
              "\n",
              "\n",
              "    <div id=\"df-452ac5bd-2c8c-4fab-a4b6-c2d53f595dfb\">\n",
              "      <button class=\"colab-df-quickchart\" onclick=\"quickchart('df-452ac5bd-2c8c-4fab-a4b6-c2d53f595dfb')\"\n",
              "              title=\"Suggest charts.\"\n",
              "              style=\"display:none;\">\n",
              "\n",
              "<svg xmlns=\"http://www.w3.org/2000/svg\" height=\"24px\"viewBox=\"0 0 24 24\"\n",
              "     width=\"24px\">\n",
              "    <g>\n",
              "        <path d=\"M19 3H5c-1.1 0-2 .9-2 2v14c0 1.1.9 2 2 2h14c1.1 0 2-.9 2-2V5c0-1.1-.9-2-2-2zM9 17H7v-7h2v7zm4 0h-2V7h2v10zm4 0h-2v-4h2v4z\"/>\n",
              "    </g>\n",
              "</svg>\n",
              "      </button>\n",
              "    </div>\n",
              "\n",
              "<style>\n",
              "  .colab-df-quickchart {\n",
              "    background-color: #E8F0FE;\n",
              "    border: none;\n",
              "    border-radius: 50%;\n",
              "    cursor: pointer;\n",
              "    display: none;\n",
              "    fill: #1967D2;\n",
              "    height: 32px;\n",
              "    padding: 0 0 0 0;\n",
              "    width: 32px;\n",
              "  }\n",
              "\n",
              "  .colab-df-quickchart:hover {\n",
              "    background-color: #E2EBFA;\n",
              "    box-shadow: 0px 1px 2px rgba(60, 64, 67, 0.3), 0px 1px 3px 1px rgba(60, 64, 67, 0.15);\n",
              "    fill: #174EA6;\n",
              "  }\n",
              "\n",
              "  [theme=dark] .colab-df-quickchart {\n",
              "    background-color: #3B4455;\n",
              "    fill: #D2E3FC;\n",
              "  }\n",
              "\n",
              "  [theme=dark] .colab-df-quickchart:hover {\n",
              "    background-color: #434B5C;\n",
              "    box-shadow: 0px 1px 3px 1px rgba(0, 0, 0, 0.15);\n",
              "    filter: drop-shadow(0px 1px 2px rgba(0, 0, 0, 0.3));\n",
              "    fill: #FFFFFF;\n",
              "  }\n",
              "</style>\n",
              "\n",
              "    <script>\n",
              "      async function quickchart(key) {\n",
              "        const containerElement = document.querySelector('#' + key);\n",
              "        const charts = await google.colab.kernel.invokeFunction(\n",
              "            'suggestCharts', [key], {});\n",
              "      }\n",
              "    </script>\n",
              "\n",
              "      <script>\n",
              "\n",
              "function displayQuickchartButton(domScope) {\n",
              "  let quickchartButtonEl =\n",
              "    domScope.querySelector('#df-452ac5bd-2c8c-4fab-a4b6-c2d53f595dfb button.colab-df-quickchart');\n",
              "  quickchartButtonEl.style.display =\n",
              "    google.colab.kernel.accessAllowed ? 'block' : 'none';\n",
              "}\n",
              "\n",
              "        displayQuickchartButton(document);\n",
              "      </script>\n",
              "      <style>\n",
              "    .colab-df-container {\n",
              "      display:flex;\n",
              "      flex-wrap:wrap;\n",
              "      gap: 12px;\n",
              "    }\n",
              "\n",
              "    .colab-df-convert {\n",
              "      background-color: #E8F0FE;\n",
              "      border: none;\n",
              "      border-radius: 50%;\n",
              "      cursor: pointer;\n",
              "      display: none;\n",
              "      fill: #1967D2;\n",
              "      height: 32px;\n",
              "      padding: 0 0 0 0;\n",
              "      width: 32px;\n",
              "    }\n",
              "\n",
              "    .colab-df-convert:hover {\n",
              "      background-color: #E2EBFA;\n",
              "      box-shadow: 0px 1px 2px rgba(60, 64, 67, 0.3), 0px 1px 3px 1px rgba(60, 64, 67, 0.15);\n",
              "      fill: #174EA6;\n",
              "    }\n",
              "\n",
              "    [theme=dark] .colab-df-convert {\n",
              "      background-color: #3B4455;\n",
              "      fill: #D2E3FC;\n",
              "    }\n",
              "\n",
              "    [theme=dark] .colab-df-convert:hover {\n",
              "      background-color: #434B5C;\n",
              "      box-shadow: 0px 1px 3px 1px rgba(0, 0, 0, 0.15);\n",
              "      filter: drop-shadow(0px 1px 2px rgba(0, 0, 0, 0.3));\n",
              "      fill: #FFFFFF;\n",
              "    }\n",
              "  </style>\n",
              "\n",
              "      <script>\n",
              "        const buttonEl =\n",
              "          document.querySelector('#df-95011618-c26f-4f0a-9612-89c6e9e37ad0 button.colab-df-convert');\n",
              "        buttonEl.style.display =\n",
              "          google.colab.kernel.accessAllowed ? 'block' : 'none';\n",
              "\n",
              "        async function convertToInteractive(key) {\n",
              "          const element = document.querySelector('#df-95011618-c26f-4f0a-9612-89c6e9e37ad0');\n",
              "          const dataTable =\n",
              "            await google.colab.kernel.invokeFunction('convertToInteractive',\n",
              "                                                     [key], {});\n",
              "          if (!dataTable) return;\n",
              "\n",
              "          const docLinkHtml = 'Like what you see? Visit the ' +\n",
              "            '<a target=\"_blank\" href=https://colab.research.google.com/notebooks/data_table.ipynb>data table notebook</a>'\n",
              "            + ' to learn more about interactive tables.';\n",
              "          element.innerHTML = '';\n",
              "          dataTable['output_type'] = 'display_data';\n",
              "          await google.colab.output.renderOutput(dataTable, element);\n",
              "          const docLink = document.createElement('div');\n",
              "          docLink.innerHTML = docLinkHtml;\n",
              "          element.appendChild(docLink);\n",
              "        }\n",
              "      </script>\n",
              "    </div>\n",
              "  </div>\n"
            ]
          },
          "metadata": {},
          "execution_count": 19
        }
      ],
      "source": [
        "df"
      ]
    },
    {
      "cell_type": "code",
      "execution_count": null,
      "metadata": {
        "id": "GmGHaTImMtaV"
      },
      "outputs": [],
      "source": [
        "df = df.drop(['Unnamed: 0', 'pubchem_id'], axis=1)"
      ]
    },
    {
      "cell_type": "code",
      "execution_count": null,
      "metadata": {
        "id": "Z4xoMklgNHnV",
        "colab": {
          "base_uri": "https://localhost:8080/"
        },
        "outputId": "c781e9a7-9258-44ba-d166-8491068719ee"
      },
      "outputs": [
        {
          "output_type": "execute_result",
          "data": {
            "text/plain": [
              "0"
            ]
          },
          "metadata": {},
          "execution_count": 21
        }
      ],
      "source": [
        "df.isnull().sum().sum()"
      ]
    },
    {
      "cell_type": "code",
      "execution_count": null,
      "metadata": {
        "id": "jvrqmjzKNSHN",
        "colab": {
          "base_uri": "https://localhost:8080/",
          "height": 487
        },
        "outputId": "50c98bea-ca93-4f57-e633-f338d0748ba9"
      },
      "outputs": [
        {
          "output_type": "execute_result",
          "data": {
            "text/plain": [
              "               0          1          2          3          4          5  \\\n",
              "0      73.516695  17.817765  12.469551  12.458130  12.454607  12.447345   \n",
              "1      73.516695  20.649126  18.527789  17.891535  17.887995  17.871731   \n",
              "2      73.516695  17.830377  12.512263  12.404775  12.394493  12.391564   \n",
              "3      73.516695  17.875810  17.871259  17.862402  17.850920  17.850440   \n",
              "4      73.516695  17.883818  17.868256  17.864221  17.818540  12.508657   \n",
              "...          ...        ...        ...        ...        ...        ...   \n",
              "16237  73.516695  20.753166  18.624076  17.872009  17.851690  17.851254   \n",
              "16238  73.516695  20.724740  18.579933  17.741621  14.716676  13.697829   \n",
              "16239  53.358707  20.820797  19.150234  19.148721  15.135514  15.123685   \n",
              "16240  53.358707  15.707759  15.707644  13.653838  13.653570  13.653314   \n",
              "16241  53.358707  15.708752  15.708094  13.653893  13.653176  13.653120   \n",
              "\n",
              "               6          7          8          9  ...  1266  1267  1268  \\\n",
              "0      12.433065  12.426926  12.387474  12.365984  ...   0.0   0.0   0.0   \n",
              "1      17.852586  17.729842  15.864270  15.227643  ...   0.0   0.0   0.0   \n",
              "2      12.324461  12.238106  10.423249   8.698826  ...   0.0   0.0   0.0   \n",
              "3      12.558105  12.557645  12.517583  12.444141  ...   0.0   0.0   0.0   \n",
              "4      12.490519  12.450098  10.597068  10.595914  ...   0.0   0.0   0.0   \n",
              "...          ...        ...        ...        ...  ...   ...   ...   ...   \n",
              "16237  17.742176  14.655754  12.706683  12.557785  ...   0.0   0.0   0.0   \n",
              "16238  13.697558  13.653512  13.652942  13.652387  ...   0.0   0.0   0.0   \n",
              "16239  12.942704  12.938162  12.488633  12.488061  ...   0.0   0.0   0.0   \n",
              "16240  13.652591  13.652585  13.652550  12.743890  ...   0.0   0.0   0.0   \n",
              "16241  13.652930  13.652528  13.652322  12.743688  ...   0.0   0.0   0.0   \n",
              "\n",
              "       1269  1270  1271  1272  1273  1274        Eat  \n",
              "0       0.5   0.0   0.0   0.0   0.0   0.0 -19.013763  \n",
              "1       0.0   0.0   0.0   0.0   0.0   0.0 -10.161019  \n",
              "2       0.0   0.0   0.0   0.0   0.0   0.0  -9.376619  \n",
              "3       0.0   0.0   0.0   0.0   0.0   0.0 -13.776438  \n",
              "4       0.0   0.0   0.0   0.0   0.0   0.0  -8.537140  \n",
              "...     ...   ...   ...   ...   ...   ...        ...  \n",
              "16237   0.0   0.0   0.0   0.0   0.0   0.0  -8.876123  \n",
              "16238   0.0   0.0   0.0   0.0   0.0   0.0 -13.105268  \n",
              "16239   0.0   0.0   0.0   0.0   0.0   0.0 -16.801464  \n",
              "16240   0.0   0.0   0.0   0.0   0.0   0.0 -13.335088  \n",
              "16241   0.0   0.0   0.0   0.0   0.0   0.0 -13.336696  \n",
              "\n",
              "[16242 rows x 1276 columns]"
            ],
            "text/html": [
              "\n",
              "\n",
              "  <div id=\"df-d24258dc-9e4f-404e-b1fa-382da8086786\">\n",
              "    <div class=\"colab-df-container\">\n",
              "      <div>\n",
              "<style scoped>\n",
              "    .dataframe tbody tr th:only-of-type {\n",
              "        vertical-align: middle;\n",
              "    }\n",
              "\n",
              "    .dataframe tbody tr th {\n",
              "        vertical-align: top;\n",
              "    }\n",
              "\n",
              "    .dataframe thead th {\n",
              "        text-align: right;\n",
              "    }\n",
              "</style>\n",
              "<table border=\"1\" class=\"dataframe\">\n",
              "  <thead>\n",
              "    <tr style=\"text-align: right;\">\n",
              "      <th></th>\n",
              "      <th>0</th>\n",
              "      <th>1</th>\n",
              "      <th>2</th>\n",
              "      <th>3</th>\n",
              "      <th>4</th>\n",
              "      <th>5</th>\n",
              "      <th>6</th>\n",
              "      <th>7</th>\n",
              "      <th>8</th>\n",
              "      <th>9</th>\n",
              "      <th>...</th>\n",
              "      <th>1266</th>\n",
              "      <th>1267</th>\n",
              "      <th>1268</th>\n",
              "      <th>1269</th>\n",
              "      <th>1270</th>\n",
              "      <th>1271</th>\n",
              "      <th>1272</th>\n",
              "      <th>1273</th>\n",
              "      <th>1274</th>\n",
              "      <th>Eat</th>\n",
              "    </tr>\n",
              "  </thead>\n",
              "  <tbody>\n",
              "    <tr>\n",
              "      <th>0</th>\n",
              "      <td>73.516695</td>\n",
              "      <td>17.817765</td>\n",
              "      <td>12.469551</td>\n",
              "      <td>12.458130</td>\n",
              "      <td>12.454607</td>\n",
              "      <td>12.447345</td>\n",
              "      <td>12.433065</td>\n",
              "      <td>12.426926</td>\n",
              "      <td>12.387474</td>\n",
              "      <td>12.365984</td>\n",
              "      <td>...</td>\n",
              "      <td>0.0</td>\n",
              "      <td>0.0</td>\n",
              "      <td>0.0</td>\n",
              "      <td>0.5</td>\n",
              "      <td>0.0</td>\n",
              "      <td>0.0</td>\n",
              "      <td>0.0</td>\n",
              "      <td>0.0</td>\n",
              "      <td>0.0</td>\n",
              "      <td>-19.013763</td>\n",
              "    </tr>\n",
              "    <tr>\n",
              "      <th>1</th>\n",
              "      <td>73.516695</td>\n",
              "      <td>20.649126</td>\n",
              "      <td>18.527789</td>\n",
              "      <td>17.891535</td>\n",
              "      <td>17.887995</td>\n",
              "      <td>17.871731</td>\n",
              "      <td>17.852586</td>\n",
              "      <td>17.729842</td>\n",
              "      <td>15.864270</td>\n",
              "      <td>15.227643</td>\n",
              "      <td>...</td>\n",
              "      <td>0.0</td>\n",
              "      <td>0.0</td>\n",
              "      <td>0.0</td>\n",
              "      <td>0.0</td>\n",
              "      <td>0.0</td>\n",
              "      <td>0.0</td>\n",
              "      <td>0.0</td>\n",
              "      <td>0.0</td>\n",
              "      <td>0.0</td>\n",
              "      <td>-10.161019</td>\n",
              "    </tr>\n",
              "    <tr>\n",
              "      <th>2</th>\n",
              "      <td>73.516695</td>\n",
              "      <td>17.830377</td>\n",
              "      <td>12.512263</td>\n",
              "      <td>12.404775</td>\n",
              "      <td>12.394493</td>\n",
              "      <td>12.391564</td>\n",
              "      <td>12.324461</td>\n",
              "      <td>12.238106</td>\n",
              "      <td>10.423249</td>\n",
              "      <td>8.698826</td>\n",
              "      <td>...</td>\n",
              "      <td>0.0</td>\n",
              "      <td>0.0</td>\n",
              "      <td>0.0</td>\n",
              "      <td>0.0</td>\n",
              "      <td>0.0</td>\n",
              "      <td>0.0</td>\n",
              "      <td>0.0</td>\n",
              "      <td>0.0</td>\n",
              "      <td>0.0</td>\n",
              "      <td>-9.376619</td>\n",
              "    </tr>\n",
              "    <tr>\n",
              "      <th>3</th>\n",
              "      <td>73.516695</td>\n",
              "      <td>17.875810</td>\n",
              "      <td>17.871259</td>\n",
              "      <td>17.862402</td>\n",
              "      <td>17.850920</td>\n",
              "      <td>17.850440</td>\n",
              "      <td>12.558105</td>\n",
              "      <td>12.557645</td>\n",
              "      <td>12.517583</td>\n",
              "      <td>12.444141</td>\n",
              "      <td>...</td>\n",
              "      <td>0.0</td>\n",
              "      <td>0.0</td>\n",
              "      <td>0.0</td>\n",
              "      <td>0.0</td>\n",
              "      <td>0.0</td>\n",
              "      <td>0.0</td>\n",
              "      <td>0.0</td>\n",
              "      <td>0.0</td>\n",
              "      <td>0.0</td>\n",
              "      <td>-13.776438</td>\n",
              "    </tr>\n",
              "    <tr>\n",
              "      <th>4</th>\n",
              "      <td>73.516695</td>\n",
              "      <td>17.883818</td>\n",
              "      <td>17.868256</td>\n",
              "      <td>17.864221</td>\n",
              "      <td>17.818540</td>\n",
              "      <td>12.508657</td>\n",
              "      <td>12.490519</td>\n",
              "      <td>12.450098</td>\n",
              "      <td>10.597068</td>\n",
              "      <td>10.595914</td>\n",
              "      <td>...</td>\n",
              "      <td>0.0</td>\n",
              "      <td>0.0</td>\n",
              "      <td>0.0</td>\n",
              "      <td>0.0</td>\n",
              "      <td>0.0</td>\n",
              "      <td>0.0</td>\n",
              "      <td>0.0</td>\n",
              "      <td>0.0</td>\n",
              "      <td>0.0</td>\n",
              "      <td>-8.537140</td>\n",
              "    </tr>\n",
              "    <tr>\n",
              "      <th>...</th>\n",
              "      <td>...</td>\n",
              "      <td>...</td>\n",
              "      <td>...</td>\n",
              "      <td>...</td>\n",
              "      <td>...</td>\n",
              "      <td>...</td>\n",
              "      <td>...</td>\n",
              "      <td>...</td>\n",
              "      <td>...</td>\n",
              "      <td>...</td>\n",
              "      <td>...</td>\n",
              "      <td>...</td>\n",
              "      <td>...</td>\n",
              "      <td>...</td>\n",
              "      <td>...</td>\n",
              "      <td>...</td>\n",
              "      <td>...</td>\n",
              "      <td>...</td>\n",
              "      <td>...</td>\n",
              "      <td>...</td>\n",
              "      <td>...</td>\n",
              "    </tr>\n",
              "    <tr>\n",
              "      <th>16237</th>\n",
              "      <td>73.516695</td>\n",
              "      <td>20.753166</td>\n",
              "      <td>18.624076</td>\n",
              "      <td>17.872009</td>\n",
              "      <td>17.851690</td>\n",
              "      <td>17.851254</td>\n",
              "      <td>17.742176</td>\n",
              "      <td>14.655754</td>\n",
              "      <td>12.706683</td>\n",
              "      <td>12.557785</td>\n",
              "      <td>...</td>\n",
              "      <td>0.0</td>\n",
              "      <td>0.0</td>\n",
              "      <td>0.0</td>\n",
              "      <td>0.0</td>\n",
              "      <td>0.0</td>\n",
              "      <td>0.0</td>\n",
              "      <td>0.0</td>\n",
              "      <td>0.0</td>\n",
              "      <td>0.0</td>\n",
              "      <td>-8.876123</td>\n",
              "    </tr>\n",
              "    <tr>\n",
              "      <th>16238</th>\n",
              "      <td>73.516695</td>\n",
              "      <td>20.724740</td>\n",
              "      <td>18.579933</td>\n",
              "      <td>17.741621</td>\n",
              "      <td>14.716676</td>\n",
              "      <td>13.697829</td>\n",
              "      <td>13.697558</td>\n",
              "      <td>13.653512</td>\n",
              "      <td>13.652942</td>\n",
              "      <td>13.652387</td>\n",
              "      <td>...</td>\n",
              "      <td>0.0</td>\n",
              "      <td>0.0</td>\n",
              "      <td>0.0</td>\n",
              "      <td>0.0</td>\n",
              "      <td>0.0</td>\n",
              "      <td>0.0</td>\n",
              "      <td>0.0</td>\n",
              "      <td>0.0</td>\n",
              "      <td>0.0</td>\n",
              "      <td>-13.105268</td>\n",
              "    </tr>\n",
              "    <tr>\n",
              "      <th>16239</th>\n",
              "      <td>53.358707</td>\n",
              "      <td>20.820797</td>\n",
              "      <td>19.150234</td>\n",
              "      <td>19.148721</td>\n",
              "      <td>15.135514</td>\n",
              "      <td>15.123685</td>\n",
              "      <td>12.942704</td>\n",
              "      <td>12.938162</td>\n",
              "      <td>12.488633</td>\n",
              "      <td>12.488061</td>\n",
              "      <td>...</td>\n",
              "      <td>0.0</td>\n",
              "      <td>0.0</td>\n",
              "      <td>0.0</td>\n",
              "      <td>0.0</td>\n",
              "      <td>0.0</td>\n",
              "      <td>0.0</td>\n",
              "      <td>0.0</td>\n",
              "      <td>0.0</td>\n",
              "      <td>0.0</td>\n",
              "      <td>-16.801464</td>\n",
              "    </tr>\n",
              "    <tr>\n",
              "      <th>16240</th>\n",
              "      <td>53.358707</td>\n",
              "      <td>15.707759</td>\n",
              "      <td>15.707644</td>\n",
              "      <td>13.653838</td>\n",
              "      <td>13.653570</td>\n",
              "      <td>13.653314</td>\n",
              "      <td>13.652591</td>\n",
              "      <td>13.652585</td>\n",
              "      <td>13.652550</td>\n",
              "      <td>12.743890</td>\n",
              "      <td>...</td>\n",
              "      <td>0.0</td>\n",
              "      <td>0.0</td>\n",
              "      <td>0.0</td>\n",
              "      <td>0.0</td>\n",
              "      <td>0.0</td>\n",
              "      <td>0.0</td>\n",
              "      <td>0.0</td>\n",
              "      <td>0.0</td>\n",
              "      <td>0.0</td>\n",
              "      <td>-13.335088</td>\n",
              "    </tr>\n",
              "    <tr>\n",
              "      <th>16241</th>\n",
              "      <td>53.358707</td>\n",
              "      <td>15.708752</td>\n",
              "      <td>15.708094</td>\n",
              "      <td>13.653893</td>\n",
              "      <td>13.653176</td>\n",
              "      <td>13.653120</td>\n",
              "      <td>13.652930</td>\n",
              "      <td>13.652528</td>\n",
              "      <td>13.652322</td>\n",
              "      <td>12.743688</td>\n",
              "      <td>...</td>\n",
              "      <td>0.0</td>\n",
              "      <td>0.0</td>\n",
              "      <td>0.0</td>\n",
              "      <td>0.0</td>\n",
              "      <td>0.0</td>\n",
              "      <td>0.0</td>\n",
              "      <td>0.0</td>\n",
              "      <td>0.0</td>\n",
              "      <td>0.0</td>\n",
              "      <td>-13.336696</td>\n",
              "    </tr>\n",
              "  </tbody>\n",
              "</table>\n",
              "<p>16242 rows × 1276 columns</p>\n",
              "</div>\n",
              "      <button class=\"colab-df-convert\" onclick=\"convertToInteractive('df-d24258dc-9e4f-404e-b1fa-382da8086786')\"\n",
              "              title=\"Convert this dataframe to an interactive table.\"\n",
              "              style=\"display:none;\">\n",
              "\n",
              "  <svg xmlns=\"http://www.w3.org/2000/svg\" height=\"24px\"viewBox=\"0 0 24 24\"\n",
              "       width=\"24px\">\n",
              "    <path d=\"M0 0h24v24H0V0z\" fill=\"none\"/>\n",
              "    <path d=\"M18.56 5.44l.94 2.06.94-2.06 2.06-.94-2.06-.94-.94-2.06-.94 2.06-2.06.94zm-11 1L8.5 8.5l.94-2.06 2.06-.94-2.06-.94L8.5 2.5l-.94 2.06-2.06.94zm10 10l.94 2.06.94-2.06 2.06-.94-2.06-.94-.94-2.06-.94 2.06-2.06.94z\"/><path d=\"M17.41 7.96l-1.37-1.37c-.4-.4-.92-.59-1.43-.59-.52 0-1.04.2-1.43.59L10.3 9.45l-7.72 7.72c-.78.78-.78 2.05 0 2.83L4 21.41c.39.39.9.59 1.41.59.51 0 1.02-.2 1.41-.59l7.78-7.78 2.81-2.81c.8-.78.8-2.07 0-2.86zM5.41 20L4 18.59l7.72-7.72 1.47 1.35L5.41 20z\"/>\n",
              "  </svg>\n",
              "      </button>\n",
              "\n",
              "\n",
              "\n",
              "    <div id=\"df-a143ab83-2466-4772-b5c1-9621d5dd0878\">\n",
              "      <button class=\"colab-df-quickchart\" onclick=\"quickchart('df-a143ab83-2466-4772-b5c1-9621d5dd0878')\"\n",
              "              title=\"Suggest charts.\"\n",
              "              style=\"display:none;\">\n",
              "\n",
              "<svg xmlns=\"http://www.w3.org/2000/svg\" height=\"24px\"viewBox=\"0 0 24 24\"\n",
              "     width=\"24px\">\n",
              "    <g>\n",
              "        <path d=\"M19 3H5c-1.1 0-2 .9-2 2v14c0 1.1.9 2 2 2h14c1.1 0 2-.9 2-2V5c0-1.1-.9-2-2-2zM9 17H7v-7h2v7zm4 0h-2V7h2v10zm4 0h-2v-4h2v4z\"/>\n",
              "    </g>\n",
              "</svg>\n",
              "      </button>\n",
              "    </div>\n",
              "\n",
              "<style>\n",
              "  .colab-df-quickchart {\n",
              "    background-color: #E8F0FE;\n",
              "    border: none;\n",
              "    border-radius: 50%;\n",
              "    cursor: pointer;\n",
              "    display: none;\n",
              "    fill: #1967D2;\n",
              "    height: 32px;\n",
              "    padding: 0 0 0 0;\n",
              "    width: 32px;\n",
              "  }\n",
              "\n",
              "  .colab-df-quickchart:hover {\n",
              "    background-color: #E2EBFA;\n",
              "    box-shadow: 0px 1px 2px rgba(60, 64, 67, 0.3), 0px 1px 3px 1px rgba(60, 64, 67, 0.15);\n",
              "    fill: #174EA6;\n",
              "  }\n",
              "\n",
              "  [theme=dark] .colab-df-quickchart {\n",
              "    background-color: #3B4455;\n",
              "    fill: #D2E3FC;\n",
              "  }\n",
              "\n",
              "  [theme=dark] .colab-df-quickchart:hover {\n",
              "    background-color: #434B5C;\n",
              "    box-shadow: 0px 1px 3px 1px rgba(0, 0, 0, 0.15);\n",
              "    filter: drop-shadow(0px 1px 2px rgba(0, 0, 0, 0.3));\n",
              "    fill: #FFFFFF;\n",
              "  }\n",
              "</style>\n",
              "\n",
              "    <script>\n",
              "      async function quickchart(key) {\n",
              "        const containerElement = document.querySelector('#' + key);\n",
              "        const charts = await google.colab.kernel.invokeFunction(\n",
              "            'suggestCharts', [key], {});\n",
              "      }\n",
              "    </script>\n",
              "\n",
              "      <script>\n",
              "\n",
              "function displayQuickchartButton(domScope) {\n",
              "  let quickchartButtonEl =\n",
              "    domScope.querySelector('#df-a143ab83-2466-4772-b5c1-9621d5dd0878 button.colab-df-quickchart');\n",
              "  quickchartButtonEl.style.display =\n",
              "    google.colab.kernel.accessAllowed ? 'block' : 'none';\n",
              "}\n",
              "\n",
              "        displayQuickchartButton(document);\n",
              "      </script>\n",
              "      <style>\n",
              "    .colab-df-container {\n",
              "      display:flex;\n",
              "      flex-wrap:wrap;\n",
              "      gap: 12px;\n",
              "    }\n",
              "\n",
              "    .colab-df-convert {\n",
              "      background-color: #E8F0FE;\n",
              "      border: none;\n",
              "      border-radius: 50%;\n",
              "      cursor: pointer;\n",
              "      display: none;\n",
              "      fill: #1967D2;\n",
              "      height: 32px;\n",
              "      padding: 0 0 0 0;\n",
              "      width: 32px;\n",
              "    }\n",
              "\n",
              "    .colab-df-convert:hover {\n",
              "      background-color: #E2EBFA;\n",
              "      box-shadow: 0px 1px 2px rgba(60, 64, 67, 0.3), 0px 1px 3px 1px rgba(60, 64, 67, 0.15);\n",
              "      fill: #174EA6;\n",
              "    }\n",
              "\n",
              "    [theme=dark] .colab-df-convert {\n",
              "      background-color: #3B4455;\n",
              "      fill: #D2E3FC;\n",
              "    }\n",
              "\n",
              "    [theme=dark] .colab-df-convert:hover {\n",
              "      background-color: #434B5C;\n",
              "      box-shadow: 0px 1px 3px 1px rgba(0, 0, 0, 0.15);\n",
              "      filter: drop-shadow(0px 1px 2px rgba(0, 0, 0, 0.3));\n",
              "      fill: #FFFFFF;\n",
              "    }\n",
              "  </style>\n",
              "\n",
              "      <script>\n",
              "        const buttonEl =\n",
              "          document.querySelector('#df-d24258dc-9e4f-404e-b1fa-382da8086786 button.colab-df-convert');\n",
              "        buttonEl.style.display =\n",
              "          google.colab.kernel.accessAllowed ? 'block' : 'none';\n",
              "\n",
              "        async function convertToInteractive(key) {\n",
              "          const element = document.querySelector('#df-d24258dc-9e4f-404e-b1fa-382da8086786');\n",
              "          const dataTable =\n",
              "            await google.colab.kernel.invokeFunction('convertToInteractive',\n",
              "                                                     [key], {});\n",
              "          if (!dataTable) return;\n",
              "\n",
              "          const docLinkHtml = 'Like what you see? Visit the ' +\n",
              "            '<a target=\"_blank\" href=https://colab.research.google.com/notebooks/data_table.ipynb>data table notebook</a>'\n",
              "            + ' to learn more about interactive tables.';\n",
              "          element.innerHTML = '';\n",
              "          dataTable['output_type'] = 'display_data';\n",
              "          await google.colab.output.renderOutput(dataTable, element);\n",
              "          const docLink = document.createElement('div');\n",
              "          docLink.innerHTML = docLinkHtml;\n",
              "          element.appendChild(docLink);\n",
              "        }\n",
              "      </script>\n",
              "    </div>\n",
              "  </div>\n"
            ]
          },
          "metadata": {},
          "execution_count": 22
        }
      ],
      "source": [
        "df"
      ]
    },
    {
      "cell_type": "code",
      "execution_count": null,
      "metadata": {
        "id": "gEHMQsUENTAe",
        "colab": {
          "base_uri": "https://localhost:8080/"
        },
        "outputId": "8e57672f-b099-4a51-9c6c-74c1a648390f"
      },
      "outputs": [
        {
          "output_type": "execute_result",
          "data": {
            "text/plain": [
              "count    16242.000000\n",
              "mean       -11.178969\n",
              "std          3.659133\n",
              "min        -23.245373\n",
              "25%        -13.475805\n",
              "50%        -10.835211\n",
              "75%         -8.623903\n",
              "max         -0.789513\n",
              "Name: Eat, dtype: float64"
            ]
          },
          "metadata": {},
          "execution_count": 23
        }
      ],
      "source": [
        "df['Eat'].describe()"
      ]
    },
    {
      "cell_type": "code",
      "execution_count": null,
      "metadata": {
        "id": "S380TAHlNVW8",
        "colab": {
          "base_uri": "https://localhost:8080/",
          "height": 698
        },
        "outputId": "43a16a36-ecf9-4f68-b4d4-051c98be19a7"
      },
      "outputs": [
        {
          "output_type": "stream",
          "name": "stderr",
          "text": [
            "<ipython-input-24-2f4ea3f5bbef>:1: UserWarning: \n",
            "\n",
            "`distplot` is a deprecated function and will be removed in seaborn v0.14.0.\n",
            "\n",
            "Please adapt your code to use either `displot` (a figure-level function with\n",
            "similar flexibility) or `histplot` (an axes-level function for histograms).\n",
            "\n",
            "For a guide to updating your code to use the new functions, please see\n",
            "https://gist.github.com/mwaskom/de44147ed2974457ad6372750bbe5751\n",
            "\n",
            "  sns.distplot(df['Eat'], kde=True)\n"
          ]
        },
        {
          "output_type": "execute_result",
          "data": {
            "text/plain": [
              "Text(0.5, 1.0, 'Distribusi Energi Atomisasi')"
            ]
          },
          "metadata": {},
          "execution_count": 24
        },
        {
          "output_type": "display_data",
          "data": {
            "text/plain": [
              "<Figure size 640x480 with 1 Axes>"
            ],
            "image/png": "[encoded data removed]"
          },
          "metadata": {}
        }
      ],
      "source": [
        "sns.distplot(df['Eat'], kde=True)\n",
        "plt.xlabel('Energi Atomisasi (Ry)')\n",
        "plt.ylabel('Frekuensi')\n",
        "plt.title('Distribusi Energi Atomisasi')"
      ]
    },
    {
      "cell_type": "markdown",
      "metadata": {
        "id": "2cG2RUgzd7I7"
      },
      "source": [
        "PCA"
      ]
    },
    {
      "cell_type": "code",
      "execution_count": null,
      "metadata": {
        "id": "2VXcpMDCd8G7"
      },
      "outputs": [],
      "source": [
        "pca = PCA(n_components=2)\n",
        "z = pca.fit_transform(coulombl)\n",
        "z = pd.DataFrame(z)"
      ]
    },
    {
      "cell_type": "code",
      "execution_count": null,
      "metadata": {
        "id": "eI5TSbUXd-7z",
        "colab": {
          "base_uri": "https://localhost:8080/",
          "height": 498
        },
        "outputId": "2cb71104-81fb-4173-c035-fc2d9b6bb52e"
      },
      "outputs": [
        {
          "output_type": "execute_result",
          "data": {
            "text/plain": [
              "Text(0.5, 1.0, 'Energi Atomisasi sebagai fungsi dua komponen PCA (z1, z2)')"
            ]
          },
          "metadata": {},
          "execution_count": 26
        },
        {
          "output_type": "display_data",
          "data": {
            "text/plain": [
              "<Figure size 640x480 with 1 Axes>"
            ],
            "image/png": "[encoded data removed]"
          },
          "metadata": {}
        }
      ],
      "source": [
        "cmap = sns.cubehelix_palette(light=1, as_cmap=True)\n",
        "ax = sns.scatterplot(x=-z[0], y=z[1],\n",
        "                     size=df['Eat'], hue=df['Eat'],\n",
        "                     palette=cmap, sizes=(5, 60))\n",
        "plt.xlabel('z1')\n",
        "plt.ylabel('z2')\n",
        "plt.title('Energi Atomisasi sebagai fungsi dua komponen PCA (z1, z2)')"
      ]
    },
    {
      "cell_type": "code",
      "execution_count": null,
      "metadata": {
        "id": "id6UjBpNeT48"
      },
      "outputs": [],
      "source": [
        "# z.rename(columns={0:'pca_0', 1:'pca_1'}, inplace=True)\n",
        "# df = pd.concat([df, z], axis=1, sort=False)"
      ]
    },
    {
      "cell_type": "markdown",
      "metadata": {
        "id": "5bTKqvNGNZrm"
      },
      "source": [
        "Split Dataset"
      ]
    },
    {
      "cell_type": "code",
      "execution_count": null,
      "metadata": {
        "id": "-PSO_pZONbi9"
      },
      "outputs": [],
      "source": [
        "X = df.drop(['Eat'], axis=1)\n",
        "Y = df['Eat']\n",
        "\n",
        "X = X.values\n",
        "Y = Y.values\n",
        "x_train, x_test, y_train, y_test = train_test_split(X, Y, test_size=0.3)"
      ]
    },
    {
      "cell_type": "markdown",
      "metadata": {
        "id": "KiASybspNu_1"
      },
      "source": [
        "Model XGB"
      ]
    },
    {
      "cell_type": "code",
      "execution_count": null,
      "metadata": {
        "id": "aMjZPN5tNr3E"
      },
      "outputs": [],
      "source": [
        "xgb = XGBRegressor(\n",
        "    objective='reg:squarederror',\n",
        "    eval_metric='rmse',\n",
        "    eta = 0.0629,\n",
        "    reg_lambda=0,\n",
        "    max_depth=6,\n",
        "    colsample_bytree=0.2,\n",
        "    min_child_weight=10,\n",
        "    n_estimators=400)"
      ]
    },
    {
      "cell_type": "code",
      "execution_count": null,
      "metadata": {
        "id": "27-cvWNsNynV"
      },
      "outputs": [],
      "source": [
        "def rmse_fun(predicted, actual):\n",
        "  return np.sqrt(np.mean(np.square(predicted - actual)))"
      ]
    },
    {
      "cell_type": "code",
      "execution_count": null,
      "metadata": {
        "id": "D39mGm8DN05l",
        "colab": {
          "base_uri": "https://localhost:8080/"
        },
        "outputId": "e7153cf8-e3ea-41b5-9d6b-fbf7d21252c6"
      },
      "outputs": [
        {
          "output_type": "stream",
          "name": "stdout",
          "text": [
            "[0.10155019 0.0883036  0.09146245 0.09114182 0.0904969 ]\n",
            "0.0925909918147735\n",
            "--- 401.9806752204895 seconds ---\n"
          ]
        }
      ],
      "source": [
        "start_time = time.time()\n",
        "\n",
        "rmse = make_scorer(rmse_fun, greater_is_better=False)\n",
        "xgb_score = -1.0 * cross_val_score(xgb, x_train, y_train, scoring=rmse, cv=5)\n",
        "xgb_scores = np.mean(xgb_score)\n",
        "print(xgb_score)\n",
        "print(xgb_scores)\n",
        "\n",
        "print(\"--- %s seconds ---\" % (time.time() - start_time))"
      ]
    },
    {
      "cell_type": "code",
      "execution_count": null,
      "metadata": {
        "id": "EdijVIMSN3Ld",
        "colab": {
          "base_uri": "https://localhost:8080/"
        },
        "outputId": "deee9a48-4d92-4a55-a80d-ffbdc1aecf10"
      },
      "outputs": [
        {
          "output_type": "stream",
          "name": "stdout",
          "text": [
            "--- 93.69628953933716 seconds ---\n"
          ]
        }
      ],
      "source": [
        "start_time = time.time()\n",
        "xgb.fit(x_train, y_train)\n",
        "print(\"--- %s seconds ---\" % (time.time() - start_time))"
      ]
    },
    {
      "cell_type": "code",
      "execution_count": null,
      "metadata": {
        "id": "CU7iFFOMN5Fm",
        "colab": {
          "base_uri": "https://localhost:8080/"
        },
        "outputId": "510b42a7-9f70-4078-c745-fb66696ca169"
      },
      "outputs": [
        {
          "output_type": "stream",
          "name": "stdout",
          "text": [
            "--- 0.07268404960632324 seconds ---\n"
          ]
        }
      ],
      "source": [
        "start_time = time.time()\n",
        "y_pred_xgb = xgb.predict(x_test)\n",
        "print(\"--- %s seconds ---\" % (time.time() - start_time))"
      ]
    },
    {
      "cell_type": "code",
      "execution_count": null,
      "metadata": {
        "id": "zUWGm6uHOA9U",
        "colab": {
          "base_uri": "https://localhost:8080/"
        },
        "outputId": "2306cd6b-088e-4ef8-a1d5-a01bcec4947f"
      },
      "outputs": [
        {
          "output_type": "stream",
          "name": "stdout",
          "text": [
            "RMSE: 0.08853905038168097\n",
            "MAE: 0.054262045211519366\n",
            "Test Accuracy: 0.9994009671448125\n"
          ]
        }
      ],
      "source": [
        "print('RMSE:', np.sqrt(mean_squared_error(y_test, y_pred_xgb)))\n",
        "print('MAE:', mean_absolute_error(y_test, y_pred_xgb))\n",
        "print('Test Accuracy:', xgb.score(x_test, y_test))"
      ]
    },
    {
      "cell_type": "code",
      "execution_count": null,
      "metadata": {
        "id": "IRNG-vdBODbR",
        "colab": {
          "base_uri": "https://localhost:8080/"
        },
        "outputId": "3af54a7d-110a-426e-c01d-c512ce324880"
      },
      "outputs": [
        {
          "output_type": "stream",
          "name": "stdout",
          "text": [
            "           Sumber  Rata-rata E\n",
            "0        Data uji   -11.145680\n",
            "1  Hasil prediksi   -11.142934\n"
          ]
        }
      ],
      "source": [
        "print(pd.DataFrame({'Sumber':['Data uji', 'Hasil prediksi'], 'Rata-rata E':[y_pred_xgb.mean(), y_test.mean()]}))"
      ]
    },
    {
      "cell_type": "code",
      "execution_count": null,
      "metadata": {
        "id": "zMEaIYDjOFl3",
        "colab": {
          "base_uri": "https://localhost:8080/",
          "height": 1000
        },
        "outputId": "108209ee-319f-4f9c-8a28-550ad2bfa5db"
      },
      "outputs": [
        {
          "output_type": "stream",
          "name": "stderr",
          "text": [
            "<ipython-input-36-6732860296b6>:2: UserWarning: \n",
            "\n",
            "`distplot` is a deprecated function and will be removed in seaborn v0.14.0.\n",
            "\n",
            "Please adapt your code to use either `displot` (a figure-level function with\n",
            "similar flexibility) or `histplot` (an axes-level function for histograms).\n",
            "\n",
            "For a guide to updating your code to use the new functions, please see\n",
            "https://gist.github.com/mwaskom/de44147ed2974457ad6372750bbe5751\n",
            "\n",
            "  sns.distplot(y_pred_xgb, ax=ax[0], color='green', label='validation xgb')\n",
            "<ipython-input-36-6732860296b6>:3: UserWarning: \n",
            "\n",
            "`distplot` is a deprecated function and will be removed in seaborn v0.14.0.\n",
            "\n",
            "Please adapt your code to use either `displot` (a figure-level function with\n",
            "similar flexibility) or `histplot` (an axes-level function for histograms).\n",
            "\n",
            "For a guide to updating your code to use the new functions, please see\n",
            "https://gist.github.com/mwaskom/de44147ed2974457ad6372750bbe5751\n",
            "\n",
            "  sns.distplot(y_test, ax=ax[1], color='red', label='test')\n"
          ]
        },
        {
          "output_type": "display_data",
          "data": {
            "text/plain": [
              "<Figure size 800x800 with 2 Axes>"
            ],
            "image/png": "[encoded data removed]"
          },
          "metadata": {}
        }
      ],
      "source": [
        "fig, ax = plt.subplots(nrows=2, sharex=True, sharey=True, figsize=(8, 8))\n",
        "sns.distplot(y_pred_xgb, ax=ax[0], color='green', label='validation xgb')\n",
        "sns.distplot(y_test, ax=ax[1], color='red', label='test')\n",
        "ax[0].legend(loc=0)\n",
        "ax[1].legend(loc=0)\n",
        "plt.show()"
      ]
    },
    {
      "cell_type": "markdown",
      "metadata": {
        "id": "BbS-hb6Ti-fB"
      },
      "source": [
        "Model LightGBM"
      ]
    },
    {
      "cell_type": "code",
      "execution_count": null,
      "metadata": {
        "id": "I0kukGH0i9zX"
      },
      "outputs": [],
      "source": [
        "lgbm = LGBMRegressor(\n",
        "      objective = 'regression',\n",
        "      num_leaves = 31,\n",
        "      n_estimators = 250,\n",
        "      min_child_weight = 0.001,\n",
        "      max_depth = -1,\n",
        "      learning_rate = 0.1,\n",
        "      colsample_bytree = 1.0 )"
      ]
    },
    {
      "cell_type": "code",
      "execution_count": null,
      "metadata": {
        "id": "2iz9xyNu1Ejp"
      },
      "outputs": [],
      "source": [
        "start_time = time.time()\n",
        "\n",
        "rmse = make_scorer(rmse_fun, greater_is_better=False)\n",
        "lgbm_scores = -1.0 * cross_val_score(lgbm, x_train, y_train, scoring=rmse, cv=5).mean()\n",
        "print(lgbm_scores)\n",
        "\n",
        "print(\"--- %s seconds ---\" % (time.time() - start_time))"
      ]
    },
    {
      "cell_type": "code",
      "execution_count": null,
      "metadata": {
        "id": "dW6ndKl5120_"
      },
      "outputs": [],
      "source": [
        "start_time = time.time()\n",
        "lgbm.fit(x_train, y_train)\n",
        "print(\"--- %s seconds ---\" % (time.time() - start_time))"
      ]
    },
    {
      "cell_type": "code",
      "execution_count": null,
      "metadata": {
        "id": "zqdb61m21_xI"
      },
      "outputs": [],
      "source": [
        "start_time = time.time()\n",
        "y_pred_lgbm = lgbm.predict(x_test)\n",
        "print(\"--- %s seconds ---\" % (time.time() - start_time))"
      ]
    },
    {
      "cell_type": "code",
      "execution_count": null,
      "metadata": {
        "id": "Mav7xLvK2G6I"
      },
      "outputs": [],
      "source": [
        "print('RMSE:', np.sqrt(mean_squared_error(y_test, y_pred_lgbm)))\n",
        "print('MAE:', mean_absolute_error(y_test, y_pred_lgbm))\n",
        "print('Test Accuracy:', lgbm.score(x_test, y_test))"
      ]
    },
    {
      "cell_type": "code",
      "execution_count": null,
      "metadata": {
        "id": "zarz3kFQ2-cA"
      },
      "outputs": [],
      "source": [
        "fig, ax = plt.subplots(nrows=2, sharex=True, sharey=True, figsize=(8, 8))\n",
        "sns.distplot(y_pred_lgbm, ax=ax[0], color='orange', label='validation Lightgbm')\n",
        "sns.distplot(y_test, ax=ax[1], color='red', label='test')\n",
        "ax[0].legend(loc=0)\n",
        "ax[1].legend(loc=0)\n",
        "plt.show()"
      ]
    },
    {
      "cell_type": "markdown",
      "metadata": {
        "id": "XzP0vkBGjF6O"
      },
      "source": [
        "Model Random Forest"
      ]
    },
    {
      "cell_type": "code",
      "execution_count": null,
      "metadata": {
        "id": "UAUtqpRRjIJZ"
      },
      "outputs": [],
      "source": [
        "rf = RandomForestRegressor(\n",
        "    n_estimators = 100,\n",
        "    criterion = 'squared_error',\n",
        "    min_samples_split = 3,\n",
        "    max_features = 'auto',\n",
        "    max_depth = 8)"
      ]
    },
    {
      "cell_type": "code",
      "execution_count": null,
      "metadata": {
        "id": "mJqlWKkT1VdY"
      },
      "outputs": [],
      "source": [
        "start_time = time.time()\n",
        "\n",
        "rmse = make_scorer(rmse_fun, greater_is_better=False)\n",
        "rf_scores = -1.0 * cross_val_score(rf, x_train, y_train, scoring=rmse, cv=5).mean()\n",
        "print(rf_scores)\n",
        "\n",
        "print(\"--- %s seconds ---\" % (time.time() - start_time))"
      ]
    },
    {
      "cell_type": "code",
      "execution_count": null,
      "metadata": {
        "id": "b4RklwCE2Tjf"
      },
      "outputs": [],
      "source": [
        "start_time = time.time()\n",
        "rf.fit(x_train, y_train)\n",
        "print(\"--- %s seconds ---\" % (time.time() - start_time))"
      ]
    },
    {
      "cell_type": "code",
      "execution_count": null,
      "metadata": {
        "id": "iyBXu8d12XMG"
      },
      "outputs": [],
      "source": [
        "start_time = time.time()\n",
        "y_pred_rf = rf.predict(x_test)\n",
        "print(\"--- %s seconds ---\" % (time.time() - start_time))"
      ]
    },
    {
      "cell_type": "code",
      "execution_count": null,
      "metadata": {
        "id": "WgvdjHhe2X5u"
      },
      "outputs": [],
      "source": [
        "print('RMSE:', np.sqrt(mean_squared_error(y_test, y_pred_rf)))\n",
        "print('MAE:', mean_absolute_error(y_test, y_pred_rf))\n",
        "print('Test Accuracy:', rf.score(x_test, y_test))"
      ]
    },
    {
      "cell_type": "code",
      "execution_count": null,
      "metadata": {
        "id": "mbrrhQ0s3Hkv"
      },
      "outputs": [],
      "source": [
        "fig, ax = plt.subplots(nrows=2, sharex=True, sharey=True, figsize=(8, 8))\n",
        "sns.distplot(y_pred_rf, ax=ax[0], color='grey', label='validation RF')\n",
        "sns.distplot(y_test, ax=ax[1], color='red', label='test')\n",
        "ax[0].legend(loc=0)\n",
        "ax[1].legend(loc=0)\n",
        "plt.show()"
      ]
    },
    {
      "cell_type": "markdown",
      "metadata": {
        "id": "7alnWOb8o-Yl"
      },
      "source": [
        "Stacking Generalization"
      ]
    },
    {
      "cell_type": "code",
      "execution_count": null,
      "metadata": {
        "id": "ylK-VyB3VKeO"
      },
      "outputs": [],
      "source": [
        "from mlxtend.regressor import StackingCVRegressor\n",
        "\n",
        "Ridge=\n",
        "\n",
        "stacked_model = StackingCVRegressor(\n",
        "      regressors=[xgb, lgbm],\n",
        "      meta_regressor=Ridge())"
      ]
    },
    {
      "cell_type": "code",
      "execution_count": null,
      "metadata": {
        "id": "q76PdCz7f-Ys"
      },
      "outputs": [],
      "source": [
        "start_time = time.time()\n",
        "\n",
        "rmse = make_scorer(rmse_fun, greater_is_better=False)\n",
        "stacked_score = -1.0 * cross_val_score(stacked_model, x_train, y_train, scoring=rmse, cv=5).mean()\n",
        "print(stacked_score)\n",
        "\n",
        "print(\"--- %s seconds ---\" % (time.time() - start_time))"
      ]
    },
    {
      "cell_type": "code",
      "execution_count": null,
      "metadata": {
        "id": "_J42JZS2g59L"
      },
      "outputs": [],
      "source": [
        "start_time = time.time()\n",
        "stacked_model.fit(x_train, y_train)\n",
        "print(\"--- %s seconds ---\" % (time.time() - start_time))"
      ]
    },
    {
      "cell_type": "code",
      "execution_count": null,
      "metadata": {
        "id": "_m5oOkQBhFt6"
      },
      "outputs": [],
      "source": [
        "start_time = time.time()\n",
        "y_pred_stacked = stacked_model.predict(x_test)\n",
        "print(\"--- %s seconds ---\" % (time.time() - start_time))"
      ]
    },
    {
      "cell_type": "code",
      "execution_count": null,
      "metadata": {
        "id": "bw4fTDTqhQ_q"
      },
      "outputs": [],
      "source": [
        "print('RMSE:', np.sqrt(mean_squared_error(y_test, y_pred_stacked)))\n",
        "print('MAE:', mean_absolute_error(y_test, y_pred_stacked))\n",
        "print('Test Accuracy:', stacked_model.score(x_test, y_test))"
      ]
    },
    {
      "cell_type": "code",
      "execution_count": null,
      "metadata": {
        "id": "SPepFpxyPE2I"
      },
      "outputs": [],
      "source": [
        "fig, ax = plt.subplots(nrows=2, sharex=True, sharey=True, figsize=(8, 8))\n",
        "sns.distplot(y_pred_stacked, ax=ax[0], color='blue', label='validation stacked')\n",
        "sns.distplot(y_test, ax=ax[1], color='red', label='test')\n",
        "ax[0].legend(loc=0)\n",
        "ax[1].legend(loc=0)\n",
        "plt.show()"
      ]
    },
    {
      "cell_type": "markdown",
      "metadata": {
        "id": "nwdDqI-_OmQs"
      },
      "source": [
        "Perbandingan Hasil"
      ]
    },
    {
      "cell_type": "code",
      "execution_count": null,
      "metadata": {
        "id": "vRrkUl0mOoEd"
      },
      "outputs": [],
      "source": [
        "print(pd.DataFrame({'Model':['XGB', 'LightGBM', 'Random Forest', 'Stacked'],\n",
        "                    'MAE':[mean_absolute_error(y_test, y_pred_xgb),mean_absolute_error(y_test, y_pred_lgbm), mean_absolute_error(y_test, y_pred_rf), mean_absolute_error(y_test, y_pred_stacked)],\n",
        "                    'RMSE':[np.sqrt(mean_squared_error(y_test, y_pred_xgb)), np.sqrt(mean_squared_error(y_test, y_pred_lgbm)), np.sqrt(mean_squared_error(y_test, y_pred_rf)), np.sqrt(mean_squared_error(y_test, y_pred_stacked))]}))"
      ]
    },
    {
      "cell_type": "code",
      "execution_count": null,
      "metadata": {
        "id": "oIL3l0ubmzYL"
      },
      "outputs": [],
      "source": [
        "print(pd.DataFrame({'Model':['XGB', 'LightGBM', 'Random Forest', 'Stacked', 'Data uji'],\n",
        "                    'Rata-rata E':[y_pred_xgb.mean(), y_pred_lgbm.mean(), y_pred_rf.mean(), y_pred_stacked.mean(), y_test.mean()]\n",
        "                    }))"
      ]
    },
    {
      "cell_type": "code",
      "source": [
        "fig2, ax2 = plt.subplots(nrows=5, sharex=True, sharey=True, figsize=(8,8))\n",
        "sns.distplot(y_pred_xgb, ax=ax2[0], color='green', label='validation xgb')\n",
        "sns.distplot(y_pred_lgbm, ax=ax2[1], color='orange', label='validation lgbm')\n",
        "sns.distplot(y_pred_rf, ax=ax2[2], color='grey', label='validation rf')\n",
        "sns.distplot(y_test, ax=ax2[3], color='red', label='test')\n",
        "ax2[0].legend(loc=0)\n",
        "ax2[1].legend(loc=0)\n",
        "ax2[2].legend(loc=0)\n",
        "ax2[3].legend(loc=0)\n",
        "plt.show()"
      ],
      "metadata": {
        "id": "Cn4A0Ky7E0c4"
      },
      "execution_count": null,
      "outputs": []
    },
    {
      "cell_type": "code",
      "execution_count": null,
      "metadata": {
        "id": "zZ9N3GVvOt8m"
      },
      "outputs": [],
      "source": [
        "fig2, ax2 = plt.subplots(nrows=5, sharex=True, sharey=True, figsize=(8,8))\n",
        "sns.distplot(y_pred_xgb, ax=ax2[0], color='green', label='validation xgb')\n",
        "sns.distplot(y_pred_lgbm, ax=ax2[1], color='orange', label='validation lgbm')\n",
        "sns.distplot(y_pred_rf, ax=ax2[2], color='grey', label='validation rf')\n",
        "sns.distplot(y_pred_stacked, ax=ax2[3], color='blue', label='validation stacked')\n",
        "sns.distplot(y_test, ax=ax2[4], color='red', label='test')\n",
        "ax2[0].legend(loc=0)\n",
        "ax2[1].legend(loc=0)\n",
        "ax2[2].legend(loc=0)\n",
        "ax2[3].legend(loc=0)\n",
        "ax2[4].legend(loc=0)\n",
        "plt.show()"
      ]
    },
    {
      "cell_type": "code",
      "execution_count": null,
      "metadata": {
        "id": "kcwbkigkoQ4j"
      },
      "outputs": [],
      "source": [
        "a = y_test - y_pred_xgb\n",
        "a.shape"
      ]
    },
    {
      "cell_type": "code",
      "execution_count": null,
      "metadata": {
        "id": "vE-Ctj6zoVEx"
      },
      "outputs": [],
      "source": [
        "y_test"
      ]
    },
    {
      "cell_type": "code",
      "execution_count": null,
      "metadata": {
        "id": "a_ZsjB7Hoa5c"
      },
      "outputs": [],
      "source": [
        "y_pred_xgb"
      ]
    },
    {
      "cell_type": "code",
      "execution_count": null,
      "metadata": {
        "id": "aJMAcKI4OxHX"
      },
      "outputs": [],
      "source": [
        "g = sns.displot(y_test - y_pred_xgb, kde=True)\n",
        "g.set_axis_labels('Ralat (Ry)')\n",
        "g = sns.displot(y_test - y_pred_lgbm, kde=True)\n",
        "g.set_axis_labels('Ralat (Ry)')\n",
        "g = sns.displot(y_test - y_pred_rf, kde=True)\n",
        "g.set_axis_labels('Ralat (Ry)')\n",
        "g = sns.displot(y_test - y_pred_stacked, kde=True)\n",
        "g.set_axis_labels('Ralat (Ry)')"
      ]
    }
  ],
  "metadata": {
    "accelerator": "GPU",
    "colab": {
      "provenance": [],
      "authorship_tag": "ABX9TyNMheRWd5jO5pYRjAPRMlqI",
      "include_colab_link": true
    },
    "kernelspec": {
      "display_name": "Python 3",
      "name": "python3"
    },
    "language_info": {
      "name": "python"
    }
  },
  "nbformat": 4,
  "nbformat_minor": 0
}